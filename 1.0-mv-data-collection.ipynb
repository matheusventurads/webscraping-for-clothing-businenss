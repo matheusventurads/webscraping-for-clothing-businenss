{
 "cells": [
  {
   "cell_type": "markdown",
   "id": "e01d1088",
   "metadata": {},
   "source": [
    "# IMPORTS"
   ]
  },
  {
   "cell_type": "code",
   "execution_count": 1,
   "id": "46597215",
   "metadata": {
    "ExecuteTime": {
     "end_time": "2022-10-31T13:35:21.173139Z",
     "start_time": "2022-10-31T13:35:20.144087Z"
    }
   },
   "outputs": [],
   "source": [
    "import requests\n",
    "import pandas as pd\n",
    "import numpy  as np\n",
    "\n",
    "from datetime import datetime\n",
    "\n",
    "from bs4 import BeautifulSoup"
   ]
  },
  {
   "cell_type": "markdown",
   "id": "f96e34a3",
   "metadata": {},
   "source": [
    "## Helper functions"
   ]
  },
  {
   "cell_type": "markdown",
   "id": "bd57a2d1",
   "metadata": {},
   "source": [
    "# DATA EXTRATION"
   ]
  },
  {
   "cell_type": "code",
   "execution_count": 2,
   "id": "1c2188f5",
   "metadata": {
    "ExecuteTime": {
     "end_time": "2022-10-31T13:35:23.788175Z",
     "start_time": "2022-10-31T13:35:21.177760Z"
    }
   },
   "outputs": [],
   "source": [
    "url = 'https://www2.hm.com/en_us/men/products/jeans.html'\n",
    "\n",
    "headers = {'User-Agent': 'Mozilla/5.0 (X11; Ubuntu; Linux x86_64; rv:106.0) Gecko/20100101 Firefox/106.0'}\n",
    "\n",
    "page = requests.get(url, headers=headers)\n",
    "\n",
    "soup = BeautifulSoup(page.text, 'html.parser')"
   ]
  },
  {
   "cell_type": "markdown",
   "id": "379affdd",
   "metadata": {},
   "source": [
    "## URL for all products"
   ]
  },
  {
   "cell_type": "code",
   "execution_count": 3,
   "id": "acc4ff9e",
   "metadata": {
    "ExecuteTime": {
     "end_time": "2022-10-31T13:35:23.842209Z",
     "start_time": "2022-10-31T13:35:23.796142Z"
    }
   },
   "outputs": [
    {
     "data": {
      "text/plain": [
       "'https://www2.hm.com/en_us/men/products/jeans.html?page-size=108'"
      ]
     },
     "execution_count": 3,
     "metadata": {},
     "output_type": "execute_result"
    }
   ],
   "source": [
    "# getting number of products\n",
    "total_item = soup.find_all('h2', class_='load-more-heading')[0].get('data-total')\n",
    "total_item\n",
    "\n",
    "# calculating number of pages\n",
    "page_number = np.ceil(int(total_item)/36)\n",
    "page_number\n",
    "\n",
    "# generating url\n",
    "url02 = url + '?page-size=' + str(int(page_number)*36)\n",
    "url02"
   ]
  },
  {
   "cell_type": "code",
   "execution_count": 4,
   "id": "ac3a645b",
   "metadata": {
    "ExecuteTime": {
     "end_time": "2022-10-31T13:35:27.331412Z",
     "start_time": "2022-10-31T13:35:23.855886Z"
    }
   },
   "outputs": [],
   "source": [
    "page = requests.get(url02, headers=headers)\n",
    "\n",
    "soup = BeautifulSoup(page.text, 'html.parser')"
   ]
  },
  {
   "cell_type": "markdown",
   "id": "8f21a378",
   "metadata": {},
   "source": [
    "## Products details"
   ]
  },
  {
   "cell_type": "code",
   "execution_count": 5,
   "id": "78ebab48",
   "metadata": {
    "ExecuteTime": {
     "end_time": "2022-10-31T13:35:27.375957Z",
     "start_time": "2022-10-31T13:35:27.334514Z"
    }
   },
   "outputs": [],
   "source": [
    "products = soup.find('ul', class_='products-listing small')\n",
    "\n",
    "product_list = products.find_all('article', class_='hm-product-item')"
   ]
  },
  {
   "cell_type": "markdown",
   "id": "aa93e76e",
   "metadata": {},
   "source": [
    "### Product ID\n"
   ]
  },
  {
   "cell_type": "code",
   "execution_count": 6,
   "id": "3da59be1",
   "metadata": {
    "ExecuteTime": {
     "end_time": "2022-10-31T13:35:27.391235Z",
     "start_time": "2022-10-31T13:35:27.380725Z"
    }
   },
   "outputs": [],
   "source": [
    "# product id\n",
    "product_id = [p.get('data-articlecode') for p in product_list]"
   ]
  },
  {
   "cell_type": "markdown",
   "id": "dc16970e",
   "metadata": {
    "ExecuteTime": {
     "end_time": "2022-10-29T10:53:21.436590Z",
     "start_time": "2022-10-29T10:53:21.430391Z"
    }
   },
   "source": [
    "### Product Category"
   ]
  },
  {
   "cell_type": "code",
   "execution_count": 7,
   "id": "28ddd2f0",
   "metadata": {
    "ExecuteTime": {
     "end_time": "2022-10-31T13:35:27.407264Z",
     "start_time": "2022-10-31T13:35:27.398667Z"
    }
   },
   "outputs": [],
   "source": [
    "# product category\n",
    "product_category = [p.get('data-category') for p in product_list]"
   ]
  },
  {
   "cell_type": "markdown",
   "id": "e4402e49",
   "metadata": {},
   "source": [
    "### Product Name"
   ]
  },
  {
   "cell_type": "code",
   "execution_count": 8,
   "id": "d789366b",
   "metadata": {
    "ExecuteTime": {
     "end_time": "2022-10-31T13:35:27.442814Z",
     "start_time": "2022-10-31T13:35:27.415094Z"
    }
   },
   "outputs": [],
   "source": [
    "# product name\n",
    "product_list = products.find_all('a', class_='link')\n",
    "product_name = [p.get_text() for p in product_list]"
   ]
  },
  {
   "cell_type": "markdown",
   "id": "bc512853",
   "metadata": {},
   "source": [
    "### Product Price"
   ]
  },
  {
   "cell_type": "code",
   "execution_count": 9,
   "id": "42b15ad8",
   "metadata": {
    "ExecuteTime": {
     "end_time": "2022-10-31T13:35:27.467207Z",
     "start_time": "2022-10-31T13:35:27.449048Z"
    }
   },
   "outputs": [],
   "source": [
    "# price\n",
    "product_list = products.find_all('span', class_='price regular')\n",
    "product_price = [p.get_text() for p in product_list]"
   ]
  },
  {
   "cell_type": "markdown",
   "id": "0c452a06",
   "metadata": {},
   "source": [
    "### Creating Dataset"
   ]
  },
  {
   "cell_type": "code",
   "execution_count": 10,
   "id": "d14a02c1",
   "metadata": {
    "ExecuteTime": {
     "end_time": "2022-10-31T13:35:27.508056Z",
     "start_time": "2022-10-31T13:35:27.477281Z"
    }
   },
   "outputs": [],
   "source": [
    "data = pd.DataFrame([product_id, product_category, product_name, product_price]).T\n",
    "data.columns = ['product_id', 'product_category', 'product_name', 'product_price']\n",
    "\n",
    "# scrapy datetime\n",
    "data['scrapy_datetime'] = datetime.now().strftime('%Y-%m-%d %H:%M:%S')"
   ]
  },
  {
   "cell_type": "code",
   "execution_count": 11,
   "id": "f350657f",
   "metadata": {
    "ExecuteTime": {
     "end_time": "2022-10-31T13:35:27.543501Z",
     "start_time": "2022-10-31T13:35:27.513154Z"
    }
   },
   "outputs": [
    {
     "data": {
      "text/html": [
       "<div>\n",
       "<style scoped>\n",
       "    .dataframe tbody tr th:only-of-type {\n",
       "        vertical-align: middle;\n",
       "    }\n",
       "\n",
       "    .dataframe tbody tr th {\n",
       "        vertical-align: top;\n",
       "    }\n",
       "\n",
       "    .dataframe thead th {\n",
       "        text-align: right;\n",
       "    }\n",
       "</style>\n",
       "<table border=\"1\" class=\"dataframe\">\n",
       "  <thead>\n",
       "    <tr style=\"text-align: right;\">\n",
       "      <th></th>\n",
       "      <th>product_id</th>\n",
       "      <th>product_category</th>\n",
       "      <th>product_name</th>\n",
       "      <th>product_price</th>\n",
       "      <th>scrapy_datetime</th>\n",
       "    </tr>\n",
       "  </thead>\n",
       "  <tbody>\n",
       "    <tr>\n",
       "      <th>0</th>\n",
       "      <td>1024256007</td>\n",
       "      <td>men_jeans_slim</td>\n",
       "      <td>Slim Jeans</td>\n",
       "      <td>$ 19.99</td>\n",
       "      <td>2022-10-31 10:35:27</td>\n",
       "    </tr>\n",
       "    <tr>\n",
       "      <th>1</th>\n",
       "      <td>1024256001</td>\n",
       "      <td>men_jeans_slim</td>\n",
       "      <td>Slim Jeans</td>\n",
       "      <td>$ 19.99</td>\n",
       "      <td>2022-10-31 10:35:27</td>\n",
       "    </tr>\n",
       "    <tr>\n",
       "      <th>2</th>\n",
       "      <td>0985159001</td>\n",
       "      <td>men_jeans_skinny</td>\n",
       "      <td>Skinny Jeans</td>\n",
       "      <td>$ 24.99</td>\n",
       "      <td>2022-10-31 10:35:27</td>\n",
       "    </tr>\n",
       "    <tr>\n",
       "      <th>3</th>\n",
       "      <td>1071707008</td>\n",
       "      <td>men_jeans_relaxed</td>\n",
       "      <td>Relaxed Jeans</td>\n",
       "      <td>$ 29.99</td>\n",
       "      <td>2022-10-31 10:35:27</td>\n",
       "    </tr>\n",
       "    <tr>\n",
       "      <th>4</th>\n",
       "      <td>1024711006</td>\n",
       "      <td>men_jeans_slim</td>\n",
       "      <td>Slim Jeans</td>\n",
       "      <td>$ 29.99</td>\n",
       "      <td>2022-10-31 10:35:27</td>\n",
       "    </tr>\n",
       "  </tbody>\n",
       "</table>\n",
       "</div>"
      ],
      "text/plain": [
       "   product_id   product_category   product_name product_price  \\\n",
       "0  1024256007     men_jeans_slim     Slim Jeans       $ 19.99   \n",
       "1  1024256001     men_jeans_slim     Slim Jeans       $ 19.99   \n",
       "2  0985159001   men_jeans_skinny   Skinny Jeans       $ 24.99   \n",
       "3  1071707008  men_jeans_relaxed  Relaxed Jeans       $ 29.99   \n",
       "4  1024711006     men_jeans_slim     Slim Jeans       $ 29.99   \n",
       "\n",
       "       scrapy_datetime  \n",
       "0  2022-10-31 10:35:27  \n",
       "1  2022-10-31 10:35:27  \n",
       "2  2022-10-31 10:35:27  \n",
       "3  2022-10-31 10:35:27  \n",
       "4  2022-10-31 10:35:27  "
      ]
     },
     "execution_count": 11,
     "metadata": {},
     "output_type": "execute_result"
    }
   ],
   "source": [
    "data.head()"
   ]
  },
  {
   "cell_type": "markdown",
   "id": "13130226",
   "metadata": {},
   "source": [
    "### Product Color and Composition"
   ]
  },
  {
   "cell_type": "code",
   "execution_count": 12,
   "id": "e8cbd584",
   "metadata": {
    "ExecuteTime": {
     "end_time": "2022-10-31T13:37:27.964682Z",
     "start_time": "2022-10-31T13:35:27.548179Z"
    }
   },
   "outputs": [
    {
     "data": {
      "text/html": [
       "<div>\n",
       "<style scoped>\n",
       "    .dataframe tbody tr th:only-of-type {\n",
       "        vertical-align: middle;\n",
       "    }\n",
       "\n",
       "    .dataframe tbody tr th {\n",
       "        vertical-align: top;\n",
       "    }\n",
       "\n",
       "    .dataframe thead th {\n",
       "        text-align: right;\n",
       "    }\n",
       "</style>\n",
       "<table border=\"1\" class=\"dataframe\">\n",
       "  <thead>\n",
       "    <tr style=\"text-align: right;\">\n",
       "      <th></th>\n",
       "      <th>product_id</th>\n",
       "      <th>product_category</th>\n",
       "      <th>product_name</th>\n",
       "      <th>product_price</th>\n",
       "      <th>scrapy_datetime</th>\n",
       "      <th>color_name</th>\n",
       "      <th>Fit</th>\n",
       "      <th>Composition</th>\n",
       "      <th>Additional material information</th>\n",
       "    </tr>\n",
       "  </thead>\n",
       "  <tbody>\n",
       "    <tr>\n",
       "      <th>0</th>\n",
       "      <td>1024256007</td>\n",
       "      <td>men_jeans_slim</td>\n",
       "      <td>Slim Jeans</td>\n",
       "      <td>$ 19.99</td>\n",
       "      <td>2022-10-31 10:35:27</td>\n",
       "      <td>Dark gray</td>\n",
       "      <td>Slim fit</td>\n",
       "      <td>Shell: Cotton 99%, Spandex 1%Pocket lining: Po...</td>\n",
       "      <td>NaN</td>\n",
       "    </tr>\n",
       "    <tr>\n",
       "      <th>1</th>\n",
       "      <td>1024256001</td>\n",
       "      <td>men_jeans_slim</td>\n",
       "      <td>Slim Jeans</td>\n",
       "      <td>$ 19.99</td>\n",
       "      <td>2022-10-31 10:35:27</td>\n",
       "      <td>Black</td>\n",
       "      <td>Slim fit</td>\n",
       "      <td>Shell: Cotton 99%, Spandex 1%Pocket lining: Po...</td>\n",
       "      <td>NaN</td>\n",
       "    </tr>\n",
       "    <tr>\n",
       "      <th>2</th>\n",
       "      <td>0985159001</td>\n",
       "      <td>men_jeans_skinny</td>\n",
       "      <td>Skinny Jeans</td>\n",
       "      <td>$ 24.99</td>\n",
       "      <td>2022-10-31 10:35:27</td>\n",
       "      <td>Black</td>\n",
       "      <td>Skinny fit</td>\n",
       "      <td>Shell: Cotton 99%, Spandex 1%Pocket lining: Co...</td>\n",
       "      <td>Recycled cotton 20%</td>\n",
       "    </tr>\n",
       "    <tr>\n",
       "      <th>3</th>\n",
       "      <td>1071707008</td>\n",
       "      <td>men_jeans_relaxed</td>\n",
       "      <td>Relaxed Jeans</td>\n",
       "      <td>$ 29.99</td>\n",
       "      <td>2022-10-31 10:35:27</td>\n",
       "      <td>Denim blue</td>\n",
       "      <td>Relaxed fit</td>\n",
       "      <td>Shell: Cotton 100%Pocket lining: Polyester 65%...</td>\n",
       "      <td>NaN</td>\n",
       "    </tr>\n",
       "    <tr>\n",
       "      <th>4</th>\n",
       "      <td>1024711006</td>\n",
       "      <td>men_jeans_slim</td>\n",
       "      <td>Slim Jeans</td>\n",
       "      <td>$ 29.99</td>\n",
       "      <td>2022-10-31 10:35:27</td>\n",
       "      <td>Dark denim blue</td>\n",
       "      <td>Slim fit</td>\n",
       "      <td>Shell: Cotton 98%, Spandex 2%Pocket lining: Co...</td>\n",
       "      <td>NaN</td>\n",
       "    </tr>\n",
       "    <tr>\n",
       "      <th>...</th>\n",
       "      <td>...</td>\n",
       "      <td>...</td>\n",
       "      <td>...</td>\n",
       "      <td>...</td>\n",
       "      <td>...</td>\n",
       "      <td>...</td>\n",
       "      <td>...</td>\n",
       "      <td>...</td>\n",
       "      <td>...</td>\n",
       "    </tr>\n",
       "    <tr>\n",
       "      <th>85</th>\n",
       "      <td>1027852009</td>\n",
       "      <td>men_jeans_joggers</td>\n",
       "      <td>Relaxed Denim Joggers</td>\n",
       "      <td>$ 29.99</td>\n",
       "      <td>2022-10-31 10:35:27</td>\n",
       "      <td>Light denim blue</td>\n",
       "      <td>Relaxed fit</td>\n",
       "      <td>Shell: Cotton 100%Pocket lining: Cotton 100%</td>\n",
       "      <td>NaN</td>\n",
       "    </tr>\n",
       "    <tr>\n",
       "      <th>86</th>\n",
       "      <td>1027852002</td>\n",
       "      <td>men_jeans_joggers</td>\n",
       "      <td>Relaxed Denim Joggers</td>\n",
       "      <td>$ 29.99</td>\n",
       "      <td>2022-10-31 10:35:27</td>\n",
       "      <td>Dark gray</td>\n",
       "      <td>Relaxed fit</td>\n",
       "      <td>Shell: Cotton 100%Pocket lining: Cotton 100%</td>\n",
       "      <td>NaN</td>\n",
       "    </tr>\n",
       "    <tr>\n",
       "      <th>87</th>\n",
       "      <td>0985197003</td>\n",
       "      <td>men_jeans_slim</td>\n",
       "      <td>Slim Jeans</td>\n",
       "      <td>$ 19.99</td>\n",
       "      <td>2022-10-31 10:35:27</td>\n",
       "      <td>Denim blue</td>\n",
       "      <td>Slim fit</td>\n",
       "      <td>Shell: Cotton 99%, Spandex 1%Pocket lining: Po...</td>\n",
       "      <td>Recycled cotton 20%</td>\n",
       "    </tr>\n",
       "    <tr>\n",
       "      <th>88</th>\n",
       "      <td>0811993037</td>\n",
       "      <td>men_jeans_regular</td>\n",
       "      <td>Regular Jeans</td>\n",
       "      <td>$ 29.99</td>\n",
       "      <td>2022-10-31 10:35:27</td>\n",
       "      <td>Dark blue</td>\n",
       "      <td>Regular fit</td>\n",
       "      <td>Cotton 99%, Spandex 1%</td>\n",
       "      <td>Recycled cotton 20%</td>\n",
       "    </tr>\n",
       "    <tr>\n",
       "      <th>89</th>\n",
       "      <td>1025726003</td>\n",
       "      <td>men_jeans_relaxed</td>\n",
       "      <td>Relaxed Jeans</td>\n",
       "      <td>$ 39.99</td>\n",
       "      <td>2022-10-31 10:35:27</td>\n",
       "      <td>Graphite gray</td>\n",
       "      <td>Relaxed fit</td>\n",
       "      <td>Shell: Cotton 100%Pocket lining: Polyester 65%...</td>\n",
       "      <td>NaN</td>\n",
       "    </tr>\n",
       "  </tbody>\n",
       "</table>\n",
       "<p>90 rows × 9 columns</p>\n",
       "</div>"
      ],
      "text/plain": [
       "    product_id   product_category           product_name product_price  \\\n",
       "0   1024256007     men_jeans_slim             Slim Jeans       $ 19.99   \n",
       "1   1024256001     men_jeans_slim             Slim Jeans       $ 19.99   \n",
       "2   0985159001   men_jeans_skinny           Skinny Jeans       $ 24.99   \n",
       "3   1071707008  men_jeans_relaxed          Relaxed Jeans       $ 29.99   \n",
       "4   1024711006     men_jeans_slim             Slim Jeans       $ 29.99   \n",
       "..         ...                ...                    ...           ...   \n",
       "85  1027852009  men_jeans_joggers  Relaxed Denim Joggers       $ 29.99   \n",
       "86  1027852002  men_jeans_joggers  Relaxed Denim Joggers       $ 29.99   \n",
       "87  0985197003     men_jeans_slim             Slim Jeans       $ 19.99   \n",
       "88  0811993037  men_jeans_regular          Regular Jeans       $ 29.99   \n",
       "89  1025726003  men_jeans_relaxed          Relaxed Jeans       $ 39.99   \n",
       "\n",
       "        scrapy_datetime        color_name          Fit  \\\n",
       "0   2022-10-31 10:35:27         Dark gray     Slim fit   \n",
       "1   2022-10-31 10:35:27             Black     Slim fit   \n",
       "2   2022-10-31 10:35:27             Black   Skinny fit   \n",
       "3   2022-10-31 10:35:27        Denim blue  Relaxed fit   \n",
       "4   2022-10-31 10:35:27   Dark denim blue     Slim fit   \n",
       "..                  ...               ...          ...   \n",
       "85  2022-10-31 10:35:27  Light denim blue  Relaxed fit   \n",
       "86  2022-10-31 10:35:27         Dark gray  Relaxed fit   \n",
       "87  2022-10-31 10:35:27        Denim blue     Slim fit   \n",
       "88  2022-10-31 10:35:27         Dark blue  Regular fit   \n",
       "89  2022-10-31 10:35:27     Graphite gray  Relaxed fit   \n",
       "\n",
       "                                          Composition  \\\n",
       "0   Shell: Cotton 99%, Spandex 1%Pocket lining: Po...   \n",
       "1   Shell: Cotton 99%, Spandex 1%Pocket lining: Po...   \n",
       "2   Shell: Cotton 99%, Spandex 1%Pocket lining: Co...   \n",
       "3   Shell: Cotton 100%Pocket lining: Polyester 65%...   \n",
       "4   Shell: Cotton 98%, Spandex 2%Pocket lining: Co...   \n",
       "..                                                ...   \n",
       "85       Shell: Cotton 100%Pocket lining: Cotton 100%   \n",
       "86       Shell: Cotton 100%Pocket lining: Cotton 100%   \n",
       "87  Shell: Cotton 99%, Spandex 1%Pocket lining: Po...   \n",
       "88                             Cotton 99%, Spandex 1%   \n",
       "89  Shell: Cotton 100%Pocket lining: Polyester 65%...   \n",
       "\n",
       "   Additional material information  \n",
       "0                              NaN  \n",
       "1                              NaN  \n",
       "2              Recycled cotton 20%  \n",
       "3                              NaN  \n",
       "4                              NaN  \n",
       "..                             ...  \n",
       "85                             NaN  \n",
       "86                             NaN  \n",
       "87             Recycled cotton 20%  \n",
       "88             Recycled cotton 20%  \n",
       "89                             NaN  \n",
       "\n",
       "[90 rows x 9 columns]"
      ]
     },
     "execution_count": 12,
     "metadata": {},
     "output_type": "execute_result"
    }
   ],
   "source": [
    "# empty dataframe for append\n",
    "df_color = pd.DataFrame()\n",
    "df_composition = pd.DataFrame()\n",
    "\n",
    "cols = ['Additional material information', 'Fit', 'Composition', 'Art. No.']\n",
    "df_pattern = pd.DataFrame(columns=cols)\n",
    "\n",
    "# unique colors for all products\n",
    "aux = []\n",
    "\n",
    "# iteration for each id product\n",
    "for code in data['product_id']:\n",
    "    url02 = 'https://www2.hm.com/en_us/productpage.' + str(code) + '.html'\n",
    "\n",
    "    page = requests.get(url02, headers=headers)\n",
    "    soup = BeautifulSoup(page.text, 'html.parser')\n",
    "    \n",
    "    # Product Color\n",
    "    color_name = soup.find('a', class_='filter-option miniature active').get('data-color')\n",
    "\n",
    "    # product id\n",
    "    product_code = soup.find('a', class_='filter-option miniature active').get('data-articlecode')\n",
    "\n",
    "    aux1 = pd.DataFrame({'product_id': product_code, 'color_name': color_name}, index=[0])\n",
    "    df_color = pd.concat([df_color, aux1])\n",
    "\n",
    "    # Product Composition \n",
    "    product_composition_list = soup.find_all('div', class_='details-attributes-list-item')\n",
    "\n",
    "    product_composition = [list(filter(None, p.get_text().split('\\n'))) for p in product_composition_list]\n",
    "    \n",
    "    composition = pd.DataFrame(product_composition).T\n",
    "\n",
    "    # rename dataframe\n",
    "    composition.columns = composition.iloc[0]\n",
    "\n",
    "    # delete first row\n",
    "    composition['Art. No.'] = composition['Art. No.'].fillna(method='ffill')\n",
    "    composition = composition.iloc[1:]\n",
    "\n",
    "    composition_aux = composition.fillna('').groupby(['Art. No.'], as_index=False).sum()\n",
    "\n",
    "    df_composition = pd.concat([df_composition, composition_aux], axis=0)\n",
    "    \n",
    "df_composition = df_composition[['Art. No.', 'Fit', 'Composition', 'Additional material information']]\n",
    "df_composition.rename(columns={'Art. No.': 'product_id'}, inplace=True)\n",
    "\n",
    "# merging the dataframes\n",
    "df_details = pd.merge(df_color, df_composition, how='left', on='product_id')\n",
    "\n",
    "data = pd.merge(data, df_details, how='left', on='product_id')\n",
    "data"
   ]
  },
  {
   "cell_type": "code",
   "execution_count": null,
   "id": "f2e484ec",
   "metadata": {},
   "outputs": [],
   "source": []
  },
  {
   "cell_type": "code",
   "execution_count": null,
   "id": "362161c0",
   "metadata": {},
   "outputs": [],
   "source": []
  }
 ],
 "metadata": {
  "kernelspec": {
   "display_name": "Python 3 (ipykernel)",
   "language": "python",
   "name": "python3"
  },
  "language_info": {
   "codemirror_mode": {
    "name": "ipython",
    "version": 3
   },
   "file_extension": ".py",
   "mimetype": "text/x-python",
   "name": "python",
   "nbconvert_exporter": "python",
   "pygments_lexer": "ipython3",
   "version": "3.8.12"
  }
 },
 "nbformat": 4,
 "nbformat_minor": 5
}
