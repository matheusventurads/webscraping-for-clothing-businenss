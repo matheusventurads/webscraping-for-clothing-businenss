{
 "cells": [
  {
   "cell_type": "markdown",
   "id": "e01d1088",
   "metadata": {},
   "source": [
    "# IMPORTS"
   ]
  },
  {
   "cell_type": "code",
   "execution_count": 1,
   "id": "46597215",
   "metadata": {
    "ExecuteTime": {
     "end_time": "2022-10-29T11:07:17.474353Z",
     "start_time": "2022-10-29T11:07:16.773252Z"
    }
   },
   "outputs": [],
   "source": [
    "import requests\n",
    "import pandas as pd\n",
    "import numpy  as np\n",
    "\n",
    "from datetime import datetime\n",
    "\n",
    "from bs4 import BeautifulSoup"
   ]
  },
  {
   "cell_type": "markdown",
   "id": "f96e34a3",
   "metadata": {},
   "source": [
    "## Helper functions"
   ]
  },
  {
   "cell_type": "markdown",
   "id": "bd57a2d1",
   "metadata": {},
   "source": [
    "# DATA EXTRATION"
   ]
  },
  {
   "cell_type": "code",
   "execution_count": 8,
   "id": "1c2188f5",
   "metadata": {
    "ExecuteTime": {
     "end_time": "2022-10-29T12:00:00.483349Z",
     "start_time": "2022-10-29T11:59:59.443820Z"
    }
   },
   "outputs": [],
   "source": [
    "url = 'https://www2.hm.com/en_us/men/products/jeans.html'\n",
    "\n",
    "headers = {'User-Agent': 'Mozilla/5.0 (X11; Ubuntu; Linux x86_64; rv:106.0) Gecko/20100101 Firefox/106.0'}\n",
    "\n",
    "page = requests.get(url, headers=headers)\n",
    "\n",
    "soup = BeautifulSoup(page.text, 'html.parser')"
   ]
  },
  {
   "cell_type": "markdown",
   "id": "379affdd",
   "metadata": {},
   "source": [
    "## URL for all products"
   ]
  },
  {
   "cell_type": "code",
   "execution_count": 9,
   "id": "acc4ff9e",
   "metadata": {
    "ExecuteTime": {
     "end_time": "2022-10-29T12:00:03.473067Z",
     "start_time": "2022-10-29T12:00:03.437824Z"
    }
   },
   "outputs": [
    {
     "data": {
      "text/plain": [
       "'https://www2.hm.com/en_us/men/products/jeans.html?page-size=108'"
      ]
     },
     "execution_count": 9,
     "metadata": {},
     "output_type": "execute_result"
    }
   ],
   "source": [
    "# getting number of products\n",
    "total_item = soup.find_all('h2', class_='load-more-heading')[0].get('data-total')\n",
    "total_item\n",
    "\n",
    "# calculating number of pages\n",
    "page_number = np.ceil(int(total_item)/36)\n",
    "page_number\n",
    "\n",
    "# generating url\n",
    "url02 = url + '?page-size=' + str(int(page_number)*36)\n",
    "url02"
   ]
  },
  {
   "cell_type": "code",
   "execution_count": 10,
   "id": "ac3a645b",
   "metadata": {
    "ExecuteTime": {
     "end_time": "2022-10-29T12:00:08.313248Z",
     "start_time": "2022-10-29T12:00:05.717438Z"
    }
   },
   "outputs": [],
   "source": [
    "page = requests.get(url02, headers=headers)\n",
    "\n",
    "soup = BeautifulSoup(page.text, 'html.parser')"
   ]
  },
  {
   "cell_type": "markdown",
   "id": "8f21a378",
   "metadata": {},
   "source": [
    "## Products details"
   ]
  },
  {
   "cell_type": "code",
   "execution_count": 11,
   "id": "78ebab48",
   "metadata": {
    "ExecuteTime": {
     "end_time": "2022-10-29T12:00:11.226201Z",
     "start_time": "2022-10-29T12:00:11.194492Z"
    }
   },
   "outputs": [],
   "source": [
    "products = soup.find('ul', class_='products-listing small')\n",
    "\n",
    "product_list = products.find_all('article', class_='hm-product-item')"
   ]
  },
  {
   "cell_type": "markdown",
   "id": "aa93e76e",
   "metadata": {},
   "source": [
    "### Product ID\n"
   ]
  },
  {
   "cell_type": "code",
   "execution_count": 12,
   "id": "3da59be1",
   "metadata": {
    "ExecuteTime": {
     "end_time": "2022-10-29T12:00:13.993997Z",
     "start_time": "2022-10-29T12:00:13.989827Z"
    }
   },
   "outputs": [],
   "source": [
    "# product id\n",
    "product_id = [p.get('data-articlecode') for p in product_list]"
   ]
  },
  {
   "cell_type": "markdown",
   "id": "dc16970e",
   "metadata": {
    "ExecuteTime": {
     "end_time": "2022-10-29T10:53:21.436590Z",
     "start_time": "2022-10-29T10:53:21.430391Z"
    }
   },
   "source": [
    "### Product Category"
   ]
  },
  {
   "cell_type": "code",
   "execution_count": 13,
   "id": "28ddd2f0",
   "metadata": {
    "ExecuteTime": {
     "end_time": "2022-10-29T12:00:16.039464Z",
     "start_time": "2022-10-29T12:00:16.026858Z"
    }
   },
   "outputs": [],
   "source": [
    "# product category\n",
    "product_category = [p.get('data-category') for p in product_list]"
   ]
  },
  {
   "cell_type": "markdown",
   "id": "e4402e49",
   "metadata": {},
   "source": [
    "### Product Name"
   ]
  },
  {
   "cell_type": "code",
   "execution_count": 14,
   "id": "d789366b",
   "metadata": {
    "ExecuteTime": {
     "end_time": "2022-10-29T12:00:18.063074Z",
     "start_time": "2022-10-29T12:00:18.014877Z"
    }
   },
   "outputs": [],
   "source": [
    "# product name\n",
    "product_list = products.find_all('a', class_='link')\n",
    "product_name = [p.get_text() for p in product_list]"
   ]
  },
  {
   "cell_type": "markdown",
   "id": "bc512853",
   "metadata": {},
   "source": [
    "### Product Price"
   ]
  },
  {
   "cell_type": "code",
   "execution_count": 15,
   "id": "42b15ad8",
   "metadata": {
    "ExecuteTime": {
     "end_time": "2022-10-29T12:00:22.616732Z",
     "start_time": "2022-10-29T12:00:22.581547Z"
    }
   },
   "outputs": [],
   "source": [
    "# price\n",
    "product_list = products.find_all('span', class_='price regular')\n",
    "product_price = [p.get_text() for p in product_list]"
   ]
  },
  {
   "cell_type": "markdown",
   "id": "0c452a06",
   "metadata": {},
   "source": [
    "### Creating Dataset"
   ]
  },
  {
   "cell_type": "code",
   "execution_count": null,
   "id": "d14a02c1",
   "metadata": {},
   "outputs": [],
   "source": [
    "data = pd.DataFrame([product_id, product_category, product_name, product_price]).T\n",
    "data.columns = ['product_id', 'product_category', 'product_name', 'product_price']\n",
    "\n",
    "# scrapy datetime\n",
    "data['scrapy_datetime'] = datetime.now().strftime('%Y-%m-%d %H:%M:%S')"
   ]
  },
  {
   "cell_type": "code",
   "execution_count": 60,
   "id": "f350657f",
   "metadata": {
    "ExecuteTime": {
     "end_time": "2022-10-29T12:26:09.613663Z",
     "start_time": "2022-10-29T12:26:09.589786Z"
    }
   },
   "outputs": [
    {
     "data": {
      "text/html": [
       "<div>\n",
       "<style scoped>\n",
       "    .dataframe tbody tr th:only-of-type {\n",
       "        vertical-align: middle;\n",
       "    }\n",
       "\n",
       "    .dataframe tbody tr th {\n",
       "        vertical-align: top;\n",
       "    }\n",
       "\n",
       "    .dataframe thead th {\n",
       "        text-align: right;\n",
       "    }\n",
       "</style>\n",
       "<table border=\"1\" class=\"dataframe\">\n",
       "  <thead>\n",
       "    <tr style=\"text-align: right;\">\n",
       "      <th></th>\n",
       "      <th>product_id</th>\n",
       "      <th>product_category</th>\n",
       "      <th>product_name</th>\n",
       "      <th>product_price</th>\n",
       "      <th>scrapy_datetime</th>\n",
       "    </tr>\n",
       "  </thead>\n",
       "  <tbody>\n",
       "    <tr>\n",
       "      <th>0</th>\n",
       "      <td>1024256007</td>\n",
       "      <td>men_jeans_slim</td>\n",
       "      <td>Slim Jeans</td>\n",
       "      <td>$ 19.99</td>\n",
       "      <td>2022-10-29 09:00:31</td>\n",
       "    </tr>\n",
       "    <tr>\n",
       "      <th>1</th>\n",
       "      <td>0985159001</td>\n",
       "      <td>men_jeans_skinny</td>\n",
       "      <td>Skinny Jeans</td>\n",
       "      <td>$ 24.99</td>\n",
       "      <td>2022-10-29 09:00:31</td>\n",
       "    </tr>\n",
       "    <tr>\n",
       "      <th>2</th>\n",
       "      <td>1024256001</td>\n",
       "      <td>men_jeans_slim</td>\n",
       "      <td>Slim Jeans</td>\n",
       "      <td>$ 19.99</td>\n",
       "      <td>2022-10-29 09:00:31</td>\n",
       "    </tr>\n",
       "    <tr>\n",
       "      <th>3</th>\n",
       "      <td>1071707008</td>\n",
       "      <td>men_jeans_relaxed</td>\n",
       "      <td>Relaxed Jeans</td>\n",
       "      <td>$ 29.99</td>\n",
       "      <td>2022-10-29 09:00:31</td>\n",
       "    </tr>\n",
       "    <tr>\n",
       "      <th>4</th>\n",
       "      <td>1100162002</td>\n",
       "      <td>men_jeans_regular</td>\n",
       "      <td>Essentials No 2: THE JEANS</td>\n",
       "      <td>$ 39.99</td>\n",
       "      <td>2022-10-29 09:00:31</td>\n",
       "    </tr>\n",
       "  </tbody>\n",
       "</table>\n",
       "</div>"
      ],
      "text/plain": [
       "   product_id   product_category                product_name product_price  \\\n",
       "0  1024256007     men_jeans_slim                  Slim Jeans       $ 19.99   \n",
       "1  0985159001   men_jeans_skinny                Skinny Jeans       $ 24.99   \n",
       "2  1024256001     men_jeans_slim                  Slim Jeans       $ 19.99   \n",
       "3  1071707008  men_jeans_relaxed               Relaxed Jeans       $ 29.99   \n",
       "4  1100162002  men_jeans_regular  Essentials No 2: THE JEANS       $ 39.99   \n",
       "\n",
       "       scrapy_datetime  \n",
       "0  2022-10-29 09:00:31  \n",
       "1  2022-10-29 09:00:31  \n",
       "2  2022-10-29 09:00:31  \n",
       "3  2022-10-29 09:00:31  \n",
       "4  2022-10-29 09:00:31  "
      ]
     },
     "execution_count": 60,
     "metadata": {},
     "output_type": "execute_result"
    }
   ],
   "source": [
    "data.head()"
   ]
  },
  {
   "cell_type": "markdown",
   "id": "13130226",
   "metadata": {},
   "source": [
    "### Product Color"
   ]
  },
  {
   "cell_type": "code",
   "execution_count": 82,
   "id": "88a347a5",
   "metadata": {
    "ExecuteTime": {
     "end_time": "2022-10-29T12:50:32.284077Z",
     "start_time": "2022-10-29T12:48:53.724561Z"
    }
   },
   "outputs": [
    {
     "data": {
      "text/html": [
       "<div>\n",
       "<style scoped>\n",
       "    .dataframe tbody tr th:only-of-type {\n",
       "        vertical-align: middle;\n",
       "    }\n",
       "\n",
       "    .dataframe tbody tr th {\n",
       "        vertical-align: top;\n",
       "    }\n",
       "\n",
       "    .dataframe thead th {\n",
       "        text-align: right;\n",
       "    }\n",
       "</style>\n",
       "<table border=\"1\" class=\"dataframe\">\n",
       "  <thead>\n",
       "    <tr style=\"text-align: right;\">\n",
       "      <th></th>\n",
       "      <th>product_id</th>\n",
       "      <th>color_name</th>\n",
       "    </tr>\n",
       "  </thead>\n",
       "  <tbody>\n",
       "    <tr>\n",
       "      <th>0</th>\n",
       "      <td>1024256007</td>\n",
       "      <td>Dark gray</td>\n",
       "    </tr>\n",
       "    <tr>\n",
       "      <th>1</th>\n",
       "      <td>0985159001</td>\n",
       "      <td>Black</td>\n",
       "    </tr>\n",
       "    <tr>\n",
       "      <th>2</th>\n",
       "      <td>1024256001</td>\n",
       "      <td>Black</td>\n",
       "    </tr>\n",
       "    <tr>\n",
       "      <th>3</th>\n",
       "      <td>1071707008</td>\n",
       "      <td>Denim blue</td>\n",
       "    </tr>\n",
       "    <tr>\n",
       "      <th>4</th>\n",
       "      <td>1100162002</td>\n",
       "      <td>Denim blue</td>\n",
       "    </tr>\n",
       "    <tr>\n",
       "      <th>...</th>\n",
       "      <td>...</td>\n",
       "      <td>...</td>\n",
       "    </tr>\n",
       "    <tr>\n",
       "      <th>86</th>\n",
       "      <td>0985197003</td>\n",
       "      <td>Denim blue</td>\n",
       "    </tr>\n",
       "    <tr>\n",
       "      <th>87</th>\n",
       "      <td>0811993037</td>\n",
       "      <td>Dark blue</td>\n",
       "    </tr>\n",
       "    <tr>\n",
       "      <th>88</th>\n",
       "      <td>1025726003</td>\n",
       "      <td>Graphite gray</td>\n",
       "    </tr>\n",
       "    <tr>\n",
       "      <th>89</th>\n",
       "      <td>1024256008</td>\n",
       "      <td>White</td>\n",
       "    </tr>\n",
       "    <tr>\n",
       "      <th>90</th>\n",
       "      <td>1018704001</td>\n",
       "      <td>Light denim blue</td>\n",
       "    </tr>\n",
       "  </tbody>\n",
       "</table>\n",
       "<p>91 rows × 2 columns</p>\n",
       "</div>"
      ],
      "text/plain": [
       "    product_id        color_name\n",
       "0   1024256007         Dark gray\n",
       "1   0985159001             Black\n",
       "2   1024256001             Black\n",
       "3   1071707008        Denim blue\n",
       "4   1100162002        Denim blue\n",
       "..         ...               ...\n",
       "86  0985197003        Denim blue\n",
       "87  0811993037         Dark blue\n",
       "88  1025726003     Graphite gray\n",
       "89  1024256008             White\n",
       "90  1018704001  Light denim blue\n",
       "\n",
       "[91 rows x 2 columns]"
      ]
     },
     "execution_count": 82,
     "metadata": {},
     "output_type": "execute_result"
    }
   ],
   "source": [
    "product_color = []\n",
    "product_id = []\n",
    "\n",
    "# iteration for each id product\n",
    "for code in data['product_id']:\n",
    "    url02 = 'https://www2.hm.com/en_us/productpage.' + str(code) + '.html'\n",
    "\n",
    "    headers = {'User-Agent': 'Mozilla/5.0 (X11; Ubuntu; Linux x86_64; rv:106.0) Gecko/20100101 Firefox/106.0'}\n",
    "\n",
    "    page = requests.get(url02, headers=headers)\n",
    "    soup = BeautifulSoup(page.text, 'html.parser')\n",
    "    \n",
    "    # color\n",
    "    color_name = soup.find('a', class_='filter-option miniature active').get('data-color')\n",
    "\n",
    "    # product id\n",
    "    product_code = soup.find('a', class_='filter-option miniature active').get('data-articlecode')\n",
    "    \n",
    "    product_color.append(color_name)\n",
    "    product_id.append(product_code)\n",
    "    \n",
    "    \n",
    "df_color = pd.DataFrame({'product_id': product_id, 'color_name': product_color})\n",
    "df_color"
   ]
  },
  {
   "cell_type": "markdown",
   "id": "49329e64",
   "metadata": {},
   "source": [
    "### Product Composition\n"
   ]
  },
  {
   "cell_type": "code",
   "execution_count": 90,
   "id": "01ef158e",
   "metadata": {
    "ExecuteTime": {
     "end_time": "2022-10-29T13:10:03.611942Z",
     "start_time": "2022-10-29T13:07:42.435042Z"
    }
   },
   "outputs": [
    {
     "data": {
      "text/html": [
       "<div>\n",
       "<style scoped>\n",
       "    .dataframe tbody tr th:only-of-type {\n",
       "        vertical-align: middle;\n",
       "    }\n",
       "\n",
       "    .dataframe tbody tr th {\n",
       "        vertical-align: top;\n",
       "    }\n",
       "\n",
       "    .dataframe thead th {\n",
       "        text-align: right;\n",
       "    }\n",
       "</style>\n",
       "<table border=\"1\" class=\"dataframe\">\n",
       "  <thead>\n",
       "    <tr style=\"text-align: right;\">\n",
       "      <th></th>\n",
       "      <th>Art. No.</th>\n",
       "      <th>Fit</th>\n",
       "      <th>Composition</th>\n",
       "    </tr>\n",
       "  </thead>\n",
       "  <tbody>\n",
       "    <tr>\n",
       "      <th>0</th>\n",
       "      <td>1024256007</td>\n",
       "      <td>Slim fit</td>\n",
       "      <td>Shell: Cotton 99%, Spandex 1%Pocket lining: Po...</td>\n",
       "    </tr>\n",
       "    <tr>\n",
       "      <th>0</th>\n",
       "      <td>0985159001</td>\n",
       "      <td>Skinny fit</td>\n",
       "      <td>Shell: Cotton 99%, Spandex 1%Pocket lining: Co...</td>\n",
       "    </tr>\n",
       "    <tr>\n",
       "      <th>0</th>\n",
       "      <td>1024256001</td>\n",
       "      <td>Slim fit</td>\n",
       "      <td>Shell: Cotton 99%, Spandex 1%Pocket lining: Po...</td>\n",
       "    </tr>\n",
       "    <tr>\n",
       "      <th>0</th>\n",
       "      <td>1071707008</td>\n",
       "      <td>Relaxed fit</td>\n",
       "      <td>Shell: Cotton 100%Pocket lining: Polyester 65%...</td>\n",
       "    </tr>\n",
       "    <tr>\n",
       "      <th>0</th>\n",
       "      <td>1100162002</td>\n",
       "      <td>Regular fit</td>\n",
       "      <td>Shell: Cotton 99%, Spandex 1%Pocket lining: Po...</td>\n",
       "    </tr>\n",
       "    <tr>\n",
       "      <th>...</th>\n",
       "      <td>...</td>\n",
       "      <td>...</td>\n",
       "      <td>...</td>\n",
       "    </tr>\n",
       "    <tr>\n",
       "      <th>0</th>\n",
       "      <td>0985197003</td>\n",
       "      <td>Slim fit</td>\n",
       "      <td>Shell: Cotton 99%, Spandex 1%Pocket lining: Po...</td>\n",
       "    </tr>\n",
       "    <tr>\n",
       "      <th>0</th>\n",
       "      <td>0811993037</td>\n",
       "      <td>Regular fit</td>\n",
       "      <td>Cotton 99%, Spandex 1%Cotton 99%, Spandex 1%</td>\n",
       "    </tr>\n",
       "    <tr>\n",
       "      <th>0</th>\n",
       "      <td>1025726003</td>\n",
       "      <td>Relaxed fit</td>\n",
       "      <td>Shell: Cotton 100%Pocket lining: Polyester 65%...</td>\n",
       "    </tr>\n",
       "    <tr>\n",
       "      <th>0</th>\n",
       "      <td>1024256008</td>\n",
       "      <td>Slim fit</td>\n",
       "      <td>Shell: Cotton 99%, Spandex 1%Pocket lining: Co...</td>\n",
       "    </tr>\n",
       "    <tr>\n",
       "      <th>0</th>\n",
       "      <td>1018704001</td>\n",
       "      <td>Relaxed fit</td>\n",
       "      <td>Shell: Cotton 100%Pocket lining: Polyester 65%...</td>\n",
       "    </tr>\n",
       "  </tbody>\n",
       "</table>\n",
       "<p>91 rows × 3 columns</p>\n",
       "</div>"
      ],
      "text/plain": [
       "0     Art. No.          Fit                                        Composition\n",
       "0   1024256007     Slim fit  Shell: Cotton 99%, Spandex 1%Pocket lining: Po...\n",
       "0   0985159001   Skinny fit  Shell: Cotton 99%, Spandex 1%Pocket lining: Co...\n",
       "0   1024256001     Slim fit  Shell: Cotton 99%, Spandex 1%Pocket lining: Po...\n",
       "0   1071707008  Relaxed fit  Shell: Cotton 100%Pocket lining: Polyester 65%...\n",
       "0   1100162002  Regular fit  Shell: Cotton 99%, Spandex 1%Pocket lining: Po...\n",
       "..         ...          ...                                                ...\n",
       "0   0985197003     Slim fit  Shell: Cotton 99%, Spandex 1%Pocket lining: Po...\n",
       "0   0811993037  Regular fit       Cotton 99%, Spandex 1%Cotton 99%, Spandex 1%\n",
       "0   1025726003  Relaxed fit  Shell: Cotton 100%Pocket lining: Polyester 65%...\n",
       "0   1024256008     Slim fit  Shell: Cotton 99%, Spandex 1%Pocket lining: Co...\n",
       "0   1018704001  Relaxed fit  Shell: Cotton 100%Pocket lining: Polyester 65%...\n",
       "\n",
       "[91 rows x 3 columns]"
      ]
     },
     "execution_count": 90,
     "metadata": {},
     "output_type": "execute_result"
    }
   ],
   "source": [
    "df_composition = pd.DataFrame()\n",
    "#df_composition.columns = ['Fit', 'Composition', 'Art. No.']\n",
    "\n",
    "# iteration for each id product\n",
    "for code in data['product_id']:\n",
    "    url02 = 'https://www2.hm.com/en_us/productpage.' + str(code) + '.html'\n",
    "\n",
    "    headers = {'User-Agent': 'Mozilla/5.0 (X11; Ubuntu; Linux x86_64; rv:106.0) Gecko/20100101 Firefox/106.0'}\n",
    "\n",
    "    page = requests.get(url02, headers=headers)\n",
    "    soup = BeautifulSoup(page.text, 'html.parser')\n",
    "    \n",
    "    product_composition_list = soup.find_all('div', class_='details-attributes-list-item')\n",
    "\n",
    "    product_composition = [list(filter(None, p.get_text().split('\\n'))) for p in product_composition_list]\n",
    "    \n",
    "    composition = pd.DataFrame(product_composition).T\n",
    "\n",
    "    # rename dataframe\n",
    "    composition.columns = composition.iloc[0]\n",
    "\n",
    "    # delete columns and first row\n",
    "    composition = composition[['Fit', 'Composition', 'Art. No.']]\n",
    "    composition = composition.iloc[1:3].fillna(method='ffill')\n",
    "    composition_aux = composition.groupby(['Art. No.', 'Fit']).sum().reset_index()\n",
    "    \n",
    "    df_composition = pd.concat([df_composition, composition_aux])\n",
    "\n",
    "df_composition"
   ]
  },
  {
   "cell_type": "code",
   "execution_count": 5,
   "id": "03838e93",
   "metadata": {
    "ExecuteTime": {
     "end_time": "2022-10-29T11:07:41.633225Z",
     "start_time": "2022-10-29T11:07:41.619382Z"
    }
   },
   "outputs": [],
   "source": [
    "product_composition_list = soup.find_all('div', class_='details-attributes-list-item')\n",
    "\n",
    "product_composition = [list(filter(None, p.get_text().split('\\n'))) for p in product_composition_list]"
   ]
  },
  {
   "cell_type": "code",
   "execution_count": 7,
   "id": "4a528dcd",
   "metadata": {
    "ExecuteTime": {
     "end_time": "2022-10-29T11:08:06.487532Z",
     "start_time": "2022-10-29T11:08:06.464355Z"
    }
   },
   "outputs": [
    {
     "data": {
      "text/html": [
       "<div>\n",
       "<style scoped>\n",
       "    .dataframe tbody tr th:only-of-type {\n",
       "        vertical-align: middle;\n",
       "    }\n",
       "\n",
       "    .dataframe tbody tr th {\n",
       "        vertical-align: top;\n",
       "    }\n",
       "\n",
       "    .dataframe thead th {\n",
       "        text-align: right;\n",
       "    }\n",
       "</style>\n",
       "<table border=\"1\" class=\"dataframe\">\n",
       "  <thead>\n",
       "    <tr style=\"text-align: right;\">\n",
       "      <th></th>\n",
       "      <th>Art. No.</th>\n",
       "      <th>Fit</th>\n",
       "      <th>Composition</th>\n",
       "    </tr>\n",
       "  </thead>\n",
       "  <tbody>\n",
       "    <tr>\n",
       "      <th>0</th>\n",
       "      <td>1024256007</td>\n",
       "      <td>Slim fit</td>\n",
       "      <td>Shell: Cotton 99%, Spandex 1%Pocket lining: Po...</td>\n",
       "    </tr>\n",
       "  </tbody>\n",
       "</table>\n",
       "</div>"
      ],
      "text/plain": [
       "0    Art. No.       Fit                                        Composition\n",
       "0  1024256007  Slim fit  Shell: Cotton 99%, Spandex 1%Pocket lining: Po..."
      ]
     },
     "execution_count": 7,
     "metadata": {},
     "output_type": "execute_result"
    }
   ],
   "source": [
    "df_composition = pd.DataFrame(product_composition).T\n",
    "\n",
    "# rename dataframe\n",
    "df_composition.columns = df_composition.iloc[0]\n",
    "\n",
    "# delete columns and first row\n",
    "df_composition = df_composition[['Fit', 'Composition', 'Art. No.']]\n",
    "df_composition = df_composition.iloc[1:3].fillna(method='ffill')\n",
    "df_composition.groupby(['Art. No.', 'Fit']).sum().reset_index()"
   ]
  },
  {
   "cell_type": "code",
   "execution_count": null,
   "id": "f2e484ec",
   "metadata": {},
   "outputs": [],
   "source": []
  },
  {
   "cell_type": "code",
   "execution_count": null,
   "id": "362161c0",
   "metadata": {},
   "outputs": [],
   "source": []
  }
 ],
 "metadata": {
  "kernelspec": {
   "display_name": "Python 3 (ipykernel)",
   "language": "python",
   "name": "python3"
  },
  "language_info": {
   "codemirror_mode": {
    "name": "ipython",
    "version": 3
   },
   "file_extension": ".py",
   "mimetype": "text/x-python",
   "name": "python",
   "nbconvert_exporter": "python",
   "pygments_lexer": "ipython3",
   "version": "3.8.12"
  }
 },
 "nbformat": 4,
 "nbformat_minor": 5
}
