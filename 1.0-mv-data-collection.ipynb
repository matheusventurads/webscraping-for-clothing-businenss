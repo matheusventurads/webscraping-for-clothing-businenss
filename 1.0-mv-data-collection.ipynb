{
 "cells": [
  {
   "cell_type": "markdown",
   "id": "e01d1088",
   "metadata": {},
   "source": [
    "# IMPORTS"
   ]
  },
  {
   "cell_type": "code",
   "execution_count": 78,
   "id": "46597215",
   "metadata": {
    "ExecuteTime": {
     "end_time": "2022-11-01T14:27:38.568522Z",
     "start_time": "2022-11-01T14:27:38.563602Z"
    }
   },
   "outputs": [],
   "source": [
    "import re\n",
    "import requests\n",
    "import pandas as pd\n",
    "import numpy  as np\n",
    "\n",
    "from datetime import datetime\n",
    "\n",
    "from bs4 import BeautifulSoup"
   ]
  },
  {
   "cell_type": "markdown",
   "id": "f96e34a3",
   "metadata": {},
   "source": [
    "## Helper functions"
   ]
  },
  {
   "cell_type": "markdown",
   "id": "bd57a2d1",
   "metadata": {},
   "source": [
    "# DATA EXTRATION"
   ]
  },
  {
   "cell_type": "code",
   "execution_count": 61,
   "id": "1c2188f5",
   "metadata": {
    "ExecuteTime": {
     "end_time": "2022-11-01T13:59:06.241756Z",
     "start_time": "2022-11-01T13:59:05.259503Z"
    }
   },
   "outputs": [],
   "source": [
    "url = 'https://www2.hm.com/en_us/men/products/jeans.html'\n",
    "\n",
    "headers = {'User-Agent': 'Mozilla/5.0 (X11; Ubuntu; Linux x86_64; rv:106.0) Gecko/20100101 Firefox/106.0'}\n",
    "\n",
    "page = requests.get(url, headers=headers)\n",
    "\n",
    "soup = BeautifulSoup(page.text, 'html.parser')"
   ]
  },
  {
   "cell_type": "markdown",
   "id": "379affdd",
   "metadata": {},
   "source": [
    "## URL for all products"
   ]
  },
  {
   "cell_type": "code",
   "execution_count": 62,
   "id": "acc4ff9e",
   "metadata": {
    "ExecuteTime": {
     "end_time": "2022-11-01T13:59:06.283678Z",
     "start_time": "2022-11-01T13:59:06.245428Z"
    }
   },
   "outputs": [
    {
     "data": {
      "text/plain": [
       "'https://www2.hm.com/en_us/men/products/jeans.html?page-size=108'"
      ]
     },
     "execution_count": 62,
     "metadata": {},
     "output_type": "execute_result"
    }
   ],
   "source": [
    "# getting number of products\n",
    "total_item = soup.find_all('h2', class_='load-more-heading')[0].get('data-total')\n",
    "total_item\n",
    "\n",
    "# calculating number of pages\n",
    "page_number = np.ceil(int(total_item)/36)\n",
    "page_number\n",
    "\n",
    "# generating url\n",
    "url02 = url + '?page-size=' + str(int(page_number)*36)\n",
    "url02"
   ]
  },
  {
   "cell_type": "code",
   "execution_count": 63,
   "id": "ac3a645b",
   "metadata": {
    "ExecuteTime": {
     "end_time": "2022-11-01T13:59:07.229304Z",
     "start_time": "2022-11-01T13:59:06.288670Z"
    }
   },
   "outputs": [],
   "source": [
    "page = requests.get(url02, headers=headers)\n",
    "\n",
    "soup = BeautifulSoup(page.text, 'html.parser')"
   ]
  },
  {
   "cell_type": "markdown",
   "id": "8f21a378",
   "metadata": {},
   "source": [
    "## Products details"
   ]
  },
  {
   "cell_type": "code",
   "execution_count": 64,
   "id": "78ebab48",
   "metadata": {
    "ExecuteTime": {
     "end_time": "2022-11-01T13:59:07.260743Z",
     "start_time": "2022-11-01T13:59:07.233690Z"
    }
   },
   "outputs": [],
   "source": [
    "products = soup.find('ul', class_='products-listing small')\n",
    "\n",
    "product_list = products.find_all('article', class_='hm-product-item')"
   ]
  },
  {
   "cell_type": "markdown",
   "id": "aa93e76e",
   "metadata": {},
   "source": [
    "### Product ID\n"
   ]
  },
  {
   "cell_type": "code",
   "execution_count": 65,
   "id": "3da59be1",
   "metadata": {
    "ExecuteTime": {
     "end_time": "2022-11-01T13:59:07.300105Z",
     "start_time": "2022-11-01T13:59:07.266928Z"
    }
   },
   "outputs": [],
   "source": [
    "# product id\n",
    "product_id = [p.get('data-articlecode') for p in product_list]"
   ]
  },
  {
   "cell_type": "markdown",
   "id": "dc16970e",
   "metadata": {
    "ExecuteTime": {
     "end_time": "2022-10-29T10:53:21.436590Z",
     "start_time": "2022-10-29T10:53:21.430391Z"
    }
   },
   "source": [
    "### Product Category"
   ]
  },
  {
   "cell_type": "code",
   "execution_count": 66,
   "id": "28ddd2f0",
   "metadata": {
    "ExecuteTime": {
     "end_time": "2022-11-01T13:59:07.316240Z",
     "start_time": "2022-11-01T13:59:07.305492Z"
    }
   },
   "outputs": [],
   "source": [
    "# product category\n",
    "product_category = [p.get('data-category') for p in product_list]"
   ]
  },
  {
   "cell_type": "markdown",
   "id": "e4402e49",
   "metadata": {},
   "source": [
    "### Product Name"
   ]
  },
  {
   "cell_type": "code",
   "execution_count": 67,
   "id": "d789366b",
   "metadata": {
    "ExecuteTime": {
     "end_time": "2022-11-01T13:59:07.353532Z",
     "start_time": "2022-11-01T13:59:07.323805Z"
    }
   },
   "outputs": [],
   "source": [
    "# product name\n",
    "product_list = products.find_all('a', class_='link')\n",
    "product_name = [p.get_text() for p in product_list]"
   ]
  },
  {
   "cell_type": "markdown",
   "id": "bc512853",
   "metadata": {},
   "source": [
    "### Product Price"
   ]
  },
  {
   "cell_type": "code",
   "execution_count": 68,
   "id": "42b15ad8",
   "metadata": {
    "ExecuteTime": {
     "end_time": "2022-11-01T13:59:07.388045Z",
     "start_time": "2022-11-01T13:59:07.358836Z"
    }
   },
   "outputs": [],
   "source": [
    "# price\n",
    "product_list = products.find_all('span', class_='price regular')\n",
    "product_price = [p.get_text() for p in product_list]"
   ]
  },
  {
   "cell_type": "markdown",
   "id": "0c452a06",
   "metadata": {},
   "source": [
    "### Creating Dataset"
   ]
  },
  {
   "cell_type": "code",
   "execution_count": 69,
   "id": "d14a02c1",
   "metadata": {
    "ExecuteTime": {
     "end_time": "2022-11-01T13:59:07.417132Z",
     "start_time": "2022-11-01T13:59:07.399077Z"
    }
   },
   "outputs": [],
   "source": [
    "data = pd.DataFrame([product_id, product_category, product_name, product_price]).T\n",
    "data.columns = ['product_id', 'product_category', 'product_name', 'product_price']\n",
    "\n",
    "# scrapy datetime\n",
    "data['scrapy_datetime'] = datetime.now().strftime('%Y-%m-%d %H:%M:%S')"
   ]
  },
  {
   "cell_type": "code",
   "execution_count": 70,
   "id": "f350657f",
   "metadata": {
    "ExecuteTime": {
     "end_time": "2022-11-01T13:59:07.457009Z",
     "start_time": "2022-11-01T13:59:07.431851Z"
    }
   },
   "outputs": [
    {
     "data": {
      "text/html": [
       "<div>\n",
       "<style scoped>\n",
       "    .dataframe tbody tr th:only-of-type {\n",
       "        vertical-align: middle;\n",
       "    }\n",
       "\n",
       "    .dataframe tbody tr th {\n",
       "        vertical-align: top;\n",
       "    }\n",
       "\n",
       "    .dataframe thead th {\n",
       "        text-align: right;\n",
       "    }\n",
       "</style>\n",
       "<table border=\"1\" class=\"dataframe\">\n",
       "  <thead>\n",
       "    <tr style=\"text-align: right;\">\n",
       "      <th></th>\n",
       "      <th>product_id</th>\n",
       "      <th>product_category</th>\n",
       "      <th>product_name</th>\n",
       "      <th>product_price</th>\n",
       "      <th>scrapy_datetime</th>\n",
       "    </tr>\n",
       "  </thead>\n",
       "  <tbody>\n",
       "    <tr>\n",
       "      <th>0</th>\n",
       "      <td>1024256007</td>\n",
       "      <td>men_jeans_slim</td>\n",
       "      <td>Slim Jeans</td>\n",
       "      <td>$ 19.99</td>\n",
       "      <td>2022-11-01 10:59:07</td>\n",
       "    </tr>\n",
       "    <tr>\n",
       "      <th>1</th>\n",
       "      <td>0985159001</td>\n",
       "      <td>men_jeans_skinny</td>\n",
       "      <td>Skinny Jeans</td>\n",
       "      <td>$ 24.99</td>\n",
       "      <td>2022-11-01 10:59:07</td>\n",
       "    </tr>\n",
       "    <tr>\n",
       "      <th>2</th>\n",
       "      <td>1024256001</td>\n",
       "      <td>men_jeans_slim</td>\n",
       "      <td>Slim Jeans</td>\n",
       "      <td>$ 19.99</td>\n",
       "      <td>2022-11-01 10:59:07</td>\n",
       "    </tr>\n",
       "    <tr>\n",
       "      <th>3</th>\n",
       "      <td>1071707008</td>\n",
       "      <td>men_jeans_relaxed</td>\n",
       "      <td>Relaxed Jeans</td>\n",
       "      <td>$ 29.99</td>\n",
       "      <td>2022-11-01 10:59:07</td>\n",
       "    </tr>\n",
       "    <tr>\n",
       "      <th>4</th>\n",
       "      <td>0993887008</td>\n",
       "      <td>men_jeans_regular</td>\n",
       "      <td>Hybrid Regular Jeans</td>\n",
       "      <td>$ 39.99</td>\n",
       "      <td>2022-11-01 10:59:07</td>\n",
       "    </tr>\n",
       "  </tbody>\n",
       "</table>\n",
       "</div>"
      ],
      "text/plain": [
       "   product_id   product_category          product_name product_price  \\\n",
       "0  1024256007     men_jeans_slim            Slim Jeans       $ 19.99   \n",
       "1  0985159001   men_jeans_skinny          Skinny Jeans       $ 24.99   \n",
       "2  1024256001     men_jeans_slim            Slim Jeans       $ 19.99   \n",
       "3  1071707008  men_jeans_relaxed         Relaxed Jeans       $ 29.99   \n",
       "4  0993887008  men_jeans_regular  Hybrid Regular Jeans       $ 39.99   \n",
       "\n",
       "       scrapy_datetime  \n",
       "0  2022-11-01 10:59:07  \n",
       "1  2022-11-01 10:59:07  \n",
       "2  2022-11-01 10:59:07  \n",
       "3  2022-11-01 10:59:07  \n",
       "4  2022-11-01 10:59:07  "
      ]
     },
     "execution_count": 70,
     "metadata": {},
     "output_type": "execute_result"
    }
   ],
   "source": [
    "data.head()"
   ]
  },
  {
   "cell_type": "markdown",
   "id": "13130226",
   "metadata": {},
   "source": [
    "### Product Color and Composition"
   ]
  },
  {
   "cell_type": "code",
   "execution_count": 71,
   "id": "e8cbd584",
   "metadata": {
    "ExecuteTime": {
     "end_time": "2022-11-01T14:01:02.309288Z",
     "start_time": "2022-11-01T13:59:07.461306Z"
    }
   },
   "outputs": [
    {
     "data": {
      "text/html": [
       "<div>\n",
       "<style scoped>\n",
       "    .dataframe tbody tr th:only-of-type {\n",
       "        vertical-align: middle;\n",
       "    }\n",
       "\n",
       "    .dataframe tbody tr th {\n",
       "        vertical-align: top;\n",
       "    }\n",
       "\n",
       "    .dataframe thead th {\n",
       "        text-align: right;\n",
       "    }\n",
       "</style>\n",
       "<table border=\"1\" class=\"dataframe\">\n",
       "  <thead>\n",
       "    <tr style=\"text-align: right;\">\n",
       "      <th></th>\n",
       "      <th>product_id</th>\n",
       "      <th>product_category</th>\n",
       "      <th>product_name</th>\n",
       "      <th>product_price</th>\n",
       "      <th>scrapy_datetime</th>\n",
       "      <th>color_name</th>\n",
       "      <th>fit</th>\n",
       "      <th>size</th>\n",
       "      <th>compostion</th>\n",
       "      <th>additional_material</th>\n",
       "    </tr>\n",
       "  </thead>\n",
       "  <tbody>\n",
       "    <tr>\n",
       "      <th>0</th>\n",
       "      <td>1024256007</td>\n",
       "      <td>men_jeans_slim</td>\n",
       "      <td>Slim Jeans</td>\n",
       "      <td>$ 19.99</td>\n",
       "      <td>2022-11-01 10:59:07</td>\n",
       "      <td>Dark gray</td>\n",
       "      <td>Slim fit</td>\n",
       "      <td>NaN</td>\n",
       "      <td>Shell: Cotton 99%, Spandex 1%Pocket lining: Po...</td>\n",
       "      <td>NaN</td>\n",
       "    </tr>\n",
       "    <tr>\n",
       "      <th>1</th>\n",
       "      <td>0985159001</td>\n",
       "      <td>men_jeans_skinny</td>\n",
       "      <td>Skinny Jeans</td>\n",
       "      <td>$ 24.99</td>\n",
       "      <td>2022-11-01 10:59:07</td>\n",
       "      <td>Black</td>\n",
       "      <td>Skinny fit</td>\n",
       "      <td>NaN</td>\n",
       "      <td>Shell: Cotton 99%, Spandex 1%Pocket lining: Co...</td>\n",
       "      <td>Recycled cotton 20%</td>\n",
       "    </tr>\n",
       "    <tr>\n",
       "      <th>2</th>\n",
       "      <td>1024256001</td>\n",
       "      <td>men_jeans_slim</td>\n",
       "      <td>Slim Jeans</td>\n",
       "      <td>$ 19.99</td>\n",
       "      <td>2022-11-01 10:59:07</td>\n",
       "      <td>Black</td>\n",
       "      <td>Slim fit</td>\n",
       "      <td>NaN</td>\n",
       "      <td>Shell: Cotton 99%, Spandex 1%Pocket lining: Po...</td>\n",
       "      <td>NaN</td>\n",
       "    </tr>\n",
       "    <tr>\n",
       "      <th>3</th>\n",
       "      <td>1071707008</td>\n",
       "      <td>men_jeans_relaxed</td>\n",
       "      <td>Relaxed Jeans</td>\n",
       "      <td>$ 29.99</td>\n",
       "      <td>2022-11-01 10:59:07</td>\n",
       "      <td>Denim blue</td>\n",
       "      <td>Relaxed fit</td>\n",
       "      <td>Inner leg: Length: 81.0 cm (Size 33/32)</td>\n",
       "      <td>Shell: Cotton 100%Pocket lining: Polyester 65%...</td>\n",
       "      <td>NaN</td>\n",
       "    </tr>\n",
       "    <tr>\n",
       "      <th>4</th>\n",
       "      <td>0993887008</td>\n",
       "      <td>men_jeans_regular</td>\n",
       "      <td>Hybrid Regular Jeans</td>\n",
       "      <td>$ 39.99</td>\n",
       "      <td>2022-11-01 10:59:07</td>\n",
       "      <td>Dark gray</td>\n",
       "      <td>Regular fit</td>\n",
       "      <td>NaN</td>\n",
       "      <td>Cotton 78%, Polyester 21%, Spandex 1%</td>\n",
       "      <td>NaN</td>\n",
       "    </tr>\n",
       "    <tr>\n",
       "      <th>...</th>\n",
       "      <td>...</td>\n",
       "      <td>...</td>\n",
       "      <td>...</td>\n",
       "      <td>...</td>\n",
       "      <td>...</td>\n",
       "      <td>...</td>\n",
       "      <td>...</td>\n",
       "      <td>...</td>\n",
       "      <td>...</td>\n",
       "      <td>...</td>\n",
       "    </tr>\n",
       "    <tr>\n",
       "      <th>87</th>\n",
       "      <td>0985197003</td>\n",
       "      <td>men_jeans_slim</td>\n",
       "      <td>Slim Jeans</td>\n",
       "      <td>$ 19.99</td>\n",
       "      <td>2022-11-01 10:59:07</td>\n",
       "      <td>Denim blue</td>\n",
       "      <td>Slim fit</td>\n",
       "      <td>NaN</td>\n",
       "      <td>Shell: Cotton 99%, Spandex 1%Pocket lining: Po...</td>\n",
       "      <td>Recycled cotton 20%</td>\n",
       "    </tr>\n",
       "    <tr>\n",
       "      <th>88</th>\n",
       "      <td>0811993037</td>\n",
       "      <td>men_jeans_regular</td>\n",
       "      <td>Regular Jeans</td>\n",
       "      <td>$ 29.99</td>\n",
       "      <td>2022-11-01 10:59:07</td>\n",
       "      <td>Dark blue</td>\n",
       "      <td>Regular fit</td>\n",
       "      <td>NaN</td>\n",
       "      <td>Cotton 99%, Spandex 1%</td>\n",
       "      <td>Recycled cotton 20%</td>\n",
       "    </tr>\n",
       "    <tr>\n",
       "      <th>89</th>\n",
       "      <td>0927964013</td>\n",
       "      <td>men_jeans_regular</td>\n",
       "      <td>Regular Tapered Crop Jeans</td>\n",
       "      <td>$ 19.99</td>\n",
       "      <td>2022-11-01 10:59:07</td>\n",
       "      <td>Black</td>\n",
       "      <td>Regular fit</td>\n",
       "      <td>NaN</td>\n",
       "      <td>Shell: Cotton 100%Pocket lining: Cotton 100%</td>\n",
       "      <td>NaN</td>\n",
       "    </tr>\n",
       "    <tr>\n",
       "      <th>90</th>\n",
       "      <td>0985197001</td>\n",
       "      <td>men_jeans_slim</td>\n",
       "      <td>Slim Jeans</td>\n",
       "      <td>$ 19.99</td>\n",
       "      <td>2022-11-01 10:59:07</td>\n",
       "      <td>Black</td>\n",
       "      <td>Slim fit</td>\n",
       "      <td>NaN</td>\n",
       "      <td>Shell: Cotton 98%, Spandex 2%Pocket lining: Co...</td>\n",
       "      <td>NaN</td>\n",
       "    </tr>\n",
       "    <tr>\n",
       "      <th>91</th>\n",
       "      <td>1025726003</td>\n",
       "      <td>men_jeans_relaxed</td>\n",
       "      <td>Relaxed Jeans</td>\n",
       "      <td>$ 39.99</td>\n",
       "      <td>2022-11-01 10:59:07</td>\n",
       "      <td>Graphite gray</td>\n",
       "      <td>Relaxed fit</td>\n",
       "      <td>Inner leg: Length: 81.0 cm (Size 33/32)Waist: ...</td>\n",
       "      <td>Shell: Cotton 100%Pocket lining: Polyester 65%...</td>\n",
       "      <td>NaN</td>\n",
       "    </tr>\n",
       "  </tbody>\n",
       "</table>\n",
       "<p>92 rows × 10 columns</p>\n",
       "</div>"
      ],
      "text/plain": [
       "    product_id   product_category                product_name product_price  \\\n",
       "0   1024256007     men_jeans_slim                  Slim Jeans       $ 19.99   \n",
       "1   0985159001   men_jeans_skinny                Skinny Jeans       $ 24.99   \n",
       "2   1024256001     men_jeans_slim                  Slim Jeans       $ 19.99   \n",
       "3   1071707008  men_jeans_relaxed               Relaxed Jeans       $ 29.99   \n",
       "4   0993887008  men_jeans_regular        Hybrid Regular Jeans       $ 39.99   \n",
       "..         ...                ...                         ...           ...   \n",
       "87  0985197003     men_jeans_slim                  Slim Jeans       $ 19.99   \n",
       "88  0811993037  men_jeans_regular               Regular Jeans       $ 29.99   \n",
       "89  0927964013  men_jeans_regular  Regular Tapered Crop Jeans       $ 19.99   \n",
       "90  0985197001     men_jeans_slim                  Slim Jeans       $ 19.99   \n",
       "91  1025726003  men_jeans_relaxed               Relaxed Jeans       $ 39.99   \n",
       "\n",
       "        scrapy_datetime     color_name          fit  \\\n",
       "0   2022-11-01 10:59:07      Dark gray     Slim fit   \n",
       "1   2022-11-01 10:59:07          Black   Skinny fit   \n",
       "2   2022-11-01 10:59:07          Black     Slim fit   \n",
       "3   2022-11-01 10:59:07     Denim blue  Relaxed fit   \n",
       "4   2022-11-01 10:59:07      Dark gray  Regular fit   \n",
       "..                  ...            ...          ...   \n",
       "87  2022-11-01 10:59:07     Denim blue     Slim fit   \n",
       "88  2022-11-01 10:59:07      Dark blue  Regular fit   \n",
       "89  2022-11-01 10:59:07          Black  Regular fit   \n",
       "90  2022-11-01 10:59:07          Black     Slim fit   \n",
       "91  2022-11-01 10:59:07  Graphite gray  Relaxed fit   \n",
       "\n",
       "                                                 size  \\\n",
       "0                                                 NaN   \n",
       "1                                                 NaN   \n",
       "2                                                 NaN   \n",
       "3             Inner leg: Length: 81.0 cm (Size 33/32)   \n",
       "4                                                 NaN   \n",
       "..                                                ...   \n",
       "87                                                NaN   \n",
       "88                                                NaN   \n",
       "89                                                NaN   \n",
       "90                                                NaN   \n",
       "91  Inner leg: Length: 81.0 cm (Size 33/32)Waist: ...   \n",
       "\n",
       "                                           compostion  additional_material  \n",
       "0   Shell: Cotton 99%, Spandex 1%Pocket lining: Po...                  NaN  \n",
       "1   Shell: Cotton 99%, Spandex 1%Pocket lining: Co...  Recycled cotton 20%  \n",
       "2   Shell: Cotton 99%, Spandex 1%Pocket lining: Po...                  NaN  \n",
       "3   Shell: Cotton 100%Pocket lining: Polyester 65%...                  NaN  \n",
       "4               Cotton 78%, Polyester 21%, Spandex 1%                  NaN  \n",
       "..                                                ...                  ...  \n",
       "87  Shell: Cotton 99%, Spandex 1%Pocket lining: Po...  Recycled cotton 20%  \n",
       "88                             Cotton 99%, Spandex 1%  Recycled cotton 20%  \n",
       "89       Shell: Cotton 100%Pocket lining: Cotton 100%                  NaN  \n",
       "90  Shell: Cotton 98%, Spandex 2%Pocket lining: Co...                  NaN  \n",
       "91  Shell: Cotton 100%Pocket lining: Polyester 65%...                  NaN  \n",
       "\n",
       "[92 rows x 10 columns]"
      ]
     },
     "execution_count": 71,
     "metadata": {},
     "output_type": "execute_result"
    }
   ],
   "source": [
    "# empty dataframe for append\n",
    "df_color = pd.DataFrame()\n",
    "df_composition = pd.DataFrame()\n",
    "\n",
    "cols = ['Additional material information', 'Fit', 'Composition', 'Art. No.']\n",
    "df_pattern = pd.DataFrame(columns=cols)\n",
    "\n",
    "# unique colors for all products\n",
    "aux = []\n",
    "\n",
    "# iteration for each id product\n",
    "for code in data['product_id']:\n",
    "    url02 = 'https://www2.hm.com/en_us/productpage.' + str(code) + '.html'\n",
    "\n",
    "    page = requests.get(url02, headers=headers)\n",
    "    soup = BeautifulSoup(page.text, 'html.parser')\n",
    "    \n",
    "    # Product Color\n",
    "    color_name = soup.find('a', class_='filter-option miniature active').get('data-color')\n",
    "\n",
    "    # product id\n",
    "    product_code = soup.find('a', class_='filter-option miniature active').get('data-articlecode')\n",
    "\n",
    "    aux1 = pd.DataFrame({'product_id': product_code, 'color_name': color_name}, index=[0])\n",
    "    df_color = pd.concat([df_color, aux1])\n",
    "\n",
    "    # Product Composition \n",
    "    product_composition_list = soup.find_all('div', class_='details-attributes-list-item')\n",
    "\n",
    "    product_composition = [list(filter(None, p.get_text().split('\\n'))) for p in product_composition_list]\n",
    "    \n",
    "    composition = pd.DataFrame(product_composition).T\n",
    "\n",
    "    # rename dataframe\n",
    "    composition.columns = composition.iloc[0]\n",
    "\n",
    "    # delete first row\n",
    "    composition['Art. No.'] = composition['Art. No.'].fillna(method='ffill')\n",
    "    composition = composition.iloc[1:]\n",
    "\n",
    "    composition_aux = composition.fillna('').groupby(['Art. No.'], as_index=False).sum()\n",
    "\n",
    "    df_composition = pd.concat([df_composition, composition_aux], axis=0)\n",
    "    \n",
    "df_composition = df_composition[['Art. No.', 'Fit', 'Size', 'Composition', 'Additional material information']]\n",
    "df_composition.rename(columns={'Art. No.': 'product_id', 'Fit': 'fit', 'Size': 'size', 'Composition':\n",
    "                               'compostion', 'Additional material information': 'additional_material'},\n",
    "                               inplace=True)\n",
    "\n",
    "# merging the dataframes\n",
    "df_details = pd.merge(df_color, df_composition, how='left', on='product_id')\n",
    "\n",
    "data = pd.merge(data, df_details, how='left', on='product_id')\n",
    "data"
   ]
  },
  {
   "cell_type": "markdown",
   "id": "31549750",
   "metadata": {},
   "source": [
    "## Saving the dataset"
   ]
  },
  {
   "cell_type": "code",
   "execution_count": 72,
   "id": "f2e484ec",
   "metadata": {
    "ExecuteTime": {
     "end_time": "2022-11-01T14:02:22.084256Z",
     "start_time": "2022-11-01T14:02:22.075882Z"
    }
   },
   "outputs": [],
   "source": [
    "#data.to_csv('data_hm.csv', index=False)"
   ]
  },
  {
   "cell_type": "markdown",
   "id": "92cb454c",
   "metadata": {},
   "source": [
    "# DATA MANIPULATION"
   ]
  },
  {
   "cell_type": "code",
   "execution_count": 111,
   "id": "ea2108ec",
   "metadata": {
    "ExecuteTime": {
     "end_time": "2022-11-01T14:40:27.675056Z",
     "start_time": "2022-11-01T14:40:27.664881Z"
    }
   },
   "outputs": [],
   "source": [
    "data = pd.read_csv('data_hm.csv')"
   ]
  },
  {
   "cell_type": "code",
   "execution_count": 101,
   "id": "fbaa34f1",
   "metadata": {
    "ExecuteTime": {
     "end_time": "2022-11-01T14:34:31.754381Z",
     "start_time": "2022-11-01T14:34:31.730976Z"
    }
   },
   "outputs": [
    {
     "data": {
      "text/html": [
       "<div>\n",
       "<style scoped>\n",
       "    .dataframe tbody tr th:only-of-type {\n",
       "        vertical-align: middle;\n",
       "    }\n",
       "\n",
       "    .dataframe tbody tr th {\n",
       "        vertical-align: top;\n",
       "    }\n",
       "\n",
       "    .dataframe thead th {\n",
       "        text-align: right;\n",
       "    }\n",
       "</style>\n",
       "<table border=\"1\" class=\"dataframe\">\n",
       "  <thead>\n",
       "    <tr style=\"text-align: right;\">\n",
       "      <th></th>\n",
       "      <th>product_id</th>\n",
       "      <th>product_category</th>\n",
       "      <th>product_name</th>\n",
       "      <th>product_price</th>\n",
       "      <th>scrapy_datetime</th>\n",
       "      <th>color_name</th>\n",
       "      <th>fit</th>\n",
       "      <th>size</th>\n",
       "      <th>compostion</th>\n",
       "      <th>additional_material</th>\n",
       "    </tr>\n",
       "  </thead>\n",
       "  <tbody>\n",
       "    <tr>\n",
       "      <th>0</th>\n",
       "      <td>1024256007</td>\n",
       "      <td>men_jeans_slim</td>\n",
       "      <td>Slim Jeans</td>\n",
       "      <td>$ 19.99</td>\n",
       "      <td>2022-11-01 10:59:07</td>\n",
       "      <td>Dark gray</td>\n",
       "      <td>Slim fit</td>\n",
       "      <td>NaN</td>\n",
       "      <td>Shell: Cotton 99%, Spandex 1%Pocket lining: Po...</td>\n",
       "      <td>NaN</td>\n",
       "    </tr>\n",
       "    <tr>\n",
       "      <th>1</th>\n",
       "      <td>985159001</td>\n",
       "      <td>men_jeans_skinny</td>\n",
       "      <td>Skinny Jeans</td>\n",
       "      <td>$ 24.99</td>\n",
       "      <td>2022-11-01 10:59:07</td>\n",
       "      <td>Black</td>\n",
       "      <td>Skinny fit</td>\n",
       "      <td>NaN</td>\n",
       "      <td>Shell: Cotton 99%, Spandex 1%Pocket lining: Co...</td>\n",
       "      <td>Recycled cotton 20%</td>\n",
       "    </tr>\n",
       "    <tr>\n",
       "      <th>2</th>\n",
       "      <td>1024256001</td>\n",
       "      <td>men_jeans_slim</td>\n",
       "      <td>Slim Jeans</td>\n",
       "      <td>$ 19.99</td>\n",
       "      <td>2022-11-01 10:59:07</td>\n",
       "      <td>Black</td>\n",
       "      <td>Slim fit</td>\n",
       "      <td>NaN</td>\n",
       "      <td>Shell: Cotton 99%, Spandex 1%Pocket lining: Po...</td>\n",
       "      <td>NaN</td>\n",
       "    </tr>\n",
       "    <tr>\n",
       "      <th>3</th>\n",
       "      <td>1071707008</td>\n",
       "      <td>men_jeans_relaxed</td>\n",
       "      <td>Relaxed Jeans</td>\n",
       "      <td>$ 29.99</td>\n",
       "      <td>2022-11-01 10:59:07</td>\n",
       "      <td>Denim blue</td>\n",
       "      <td>Relaxed fit</td>\n",
       "      <td>Inner leg: Length: 81.0 cm (Size 33/32)</td>\n",
       "      <td>Shell: Cotton 100%Pocket lining: Polyester 65%...</td>\n",
       "      <td>NaN</td>\n",
       "    </tr>\n",
       "    <tr>\n",
       "      <th>4</th>\n",
       "      <td>993887008</td>\n",
       "      <td>men_jeans_regular</td>\n",
       "      <td>Hybrid Regular Jeans</td>\n",
       "      <td>$ 39.99</td>\n",
       "      <td>2022-11-01 10:59:07</td>\n",
       "      <td>Dark gray</td>\n",
       "      <td>Regular fit</td>\n",
       "      <td>NaN</td>\n",
       "      <td>Cotton 78%, Polyester 21%, Spandex 1%</td>\n",
       "      <td>NaN</td>\n",
       "    </tr>\n",
       "  </tbody>\n",
       "</table>\n",
       "</div>"
      ],
      "text/plain": [
       "   product_id   product_category          product_name product_price  \\\n",
       "0  1024256007     men_jeans_slim            Slim Jeans       $ 19.99   \n",
       "1   985159001   men_jeans_skinny          Skinny Jeans       $ 24.99   \n",
       "2  1024256001     men_jeans_slim            Slim Jeans       $ 19.99   \n",
       "3  1071707008  men_jeans_relaxed         Relaxed Jeans       $ 29.99   \n",
       "4   993887008  men_jeans_regular  Hybrid Regular Jeans       $ 39.99   \n",
       "\n",
       "       scrapy_datetime  color_name          fit  \\\n",
       "0  2022-11-01 10:59:07   Dark gray     Slim fit   \n",
       "1  2022-11-01 10:59:07       Black   Skinny fit   \n",
       "2  2022-11-01 10:59:07       Black     Slim fit   \n",
       "3  2022-11-01 10:59:07  Denim blue  Relaxed fit   \n",
       "4  2022-11-01 10:59:07   Dark gray  Regular fit   \n",
       "\n",
       "                                      size  \\\n",
       "0                                      NaN   \n",
       "1                                      NaN   \n",
       "2                                      NaN   \n",
       "3  Inner leg: Length: 81.0 cm (Size 33/32)   \n",
       "4                                      NaN   \n",
       "\n",
       "                                          compostion  additional_material  \n",
       "0  Shell: Cotton 99%, Spandex 1%Pocket lining: Po...                  NaN  \n",
       "1  Shell: Cotton 99%, Spandex 1%Pocket lining: Co...  Recycled cotton 20%  \n",
       "2  Shell: Cotton 99%, Spandex 1%Pocket lining: Po...                  NaN  \n",
       "3  Shell: Cotton 100%Pocket lining: Polyester 65%...                  NaN  \n",
       "4              Cotton 78%, Polyester 21%, Spandex 1%                  NaN  "
      ]
     },
     "execution_count": 101,
     "metadata": {},
     "output_type": "execute_result"
    }
   ],
   "source": [
    "data.head()"
   ]
  },
  {
   "cell_type": "code",
   "execution_count": 112,
   "id": "367c253b",
   "metadata": {
    "ExecuteTime": {
     "end_time": "2022-11-01T14:40:30.597231Z",
     "start_time": "2022-11-01T14:40:30.473495Z"
    }
   },
   "outputs": [
    {
     "ename": "TypeError",
     "evalue": "expected string or bytes-like object",
     "output_type": "error",
     "traceback": [
      "\u001b[0;31m---------------------------------------------------------------------------\u001b[0m",
      "\u001b[0;31mTypeError\u001b[0m                                 Traceback (most recent call last)",
      "Cell \u001b[0;32mIn [112], line 17\u001b[0m\n\u001b[1;32m     14\u001b[0m data[\u001b[38;5;124m'\u001b[39m\u001b[38;5;124mfit\u001b[39m\u001b[38;5;124m'\u001b[39m] \u001b[38;5;241m=\u001b[39m data[\u001b[38;5;124m'\u001b[39m\u001b[38;5;124mfit\u001b[39m\u001b[38;5;124m'\u001b[39m]\u001b[38;5;241m.\u001b[39mapply(\u001b[38;5;28;01mlambda\u001b[39;00m x: x\u001b[38;5;241m.\u001b[39mreplace(\u001b[38;5;124m'\u001b[39m\u001b[38;5;124m \u001b[39m\u001b[38;5;124m'\u001b[39m, \u001b[38;5;124m'\u001b[39m\u001b[38;5;124m_\u001b[39m\u001b[38;5;124m'\u001b[39m)\u001b[38;5;241m.\u001b[39mreplace(\u001b[38;5;124m'\u001b[39m\u001b[38;5;124m/\u001b[39m\u001b[38;5;124m'\u001b[39m, \u001b[38;5;124m'\u001b[39m\u001b[38;5;124m_\u001b[39m\u001b[38;5;124m'\u001b[39m)\u001b[38;5;241m.\u001b[39mlower())\n\u001b[1;32m     16\u001b[0m \u001b[38;5;66;03m# size\u001b[39;00m\n\u001b[0;32m---> 17\u001b[0m data[\u001b[38;5;124m'\u001b[39m\u001b[38;5;124minner_leg_length\u001b[39m\u001b[38;5;124m'\u001b[39m] \u001b[38;5;241m=\u001b[39m \u001b[43mdata\u001b[49m\u001b[43m[\u001b[49m\u001b[38;5;124;43m'\u001b[39;49m\u001b[38;5;124;43msize\u001b[39;49m\u001b[38;5;124;43m'\u001b[39;49m\u001b[43m]\u001b[49m\u001b[38;5;241;43m.\u001b[39;49m\u001b[43mapply\u001b[49m\u001b[43m(\u001b[49m\u001b[38;5;28;43;01mlambda\u001b[39;49;00m\u001b[43m \u001b[49m\u001b[43mx\u001b[49m\u001b[43m:\u001b[49m\u001b[43m \u001b[49m\u001b[43mre\u001b[49m\u001b[38;5;241;43m.\u001b[39;49m\u001b[43msearch\u001b[49m\u001b[43m(\u001b[49m\u001b[38;5;124;43m'\u001b[39;49m\u001b[38;5;124;43mLength: (\u001b[39;49m\u001b[38;5;124;43m\\\u001b[39;49m\u001b[38;5;124;43md+\u001b[39;49m\u001b[38;5;124;43m\\\u001b[39;49m\u001b[38;5;124;43m.\u001b[39;49m\u001b[38;5;124;43m\\\u001b[39;49m\u001b[38;5;124;43md)\u001b[39;49m\u001b[38;5;124;43m'\u001b[39;49m\u001b[43m,\u001b[49m\u001b[43m \u001b[49m\u001b[43mx\u001b[49m\u001b[43m)\u001b[49m\u001b[38;5;241;43m.\u001b[39;49m\u001b[43mgroup\u001b[49m\u001b[43m(\u001b[49m\u001b[38;5;241;43m1\u001b[39;49m\u001b[43m)\u001b[49m\n\u001b[1;32m     18\u001b[0m \u001b[43m                                              \u001b[49m\u001b[38;5;28;43;01mif\u001b[39;49;00m\u001b[43m \u001b[49m\u001b[43m(\u001b[49m\u001b[43mpd\u001b[49m\u001b[38;5;241;43m.\u001b[39;49m\u001b[43mnotnull\u001b[49m\u001b[43m(\u001b[49m\u001b[43mx\u001b[49m\u001b[43m)\u001b[49m\u001b[43m \u001b[49m\u001b[38;5;241;43m&\u001b[39;49m\u001b[43m \u001b[49m\u001b[43mre\u001b[49m\u001b[38;5;241;43m.\u001b[39;49m\u001b[43msearch\u001b[49m\u001b[43m(\u001b[49m\u001b[38;5;124;43m'\u001b[39;49m\u001b[38;5;124;43mLength: (\u001b[39;49m\u001b[38;5;124;43m\\\u001b[39;49m\u001b[38;5;124;43md+\u001b[39;49m\u001b[38;5;124;43m\\\u001b[39;49m\u001b[38;5;124;43m.\u001b[39;49m\u001b[38;5;124;43m\\\u001b[39;49m\u001b[38;5;124;43md)\u001b[39;49m\u001b[38;5;124;43m'\u001b[39;49m\u001b[43m,\u001b[49m\u001b[43m \u001b[49m\u001b[43mx\u001b[49m\u001b[43m)\u001b[49m\u001b[43m)\u001b[49m\u001b[43m \u001b[49m\u001b[38;5;28;43;01melse\u001b[39;49;00m\u001b[43m \u001b[49m\u001b[43mx\u001b[49m\u001b[43m)\u001b[49m\n",
      "File \u001b[0;32m~/.pyenv/versions/3.8.12/envs/webscraping/lib/python3.8/site-packages/pandas/core/series.py:4771\u001b[0m, in \u001b[0;36mSeries.apply\u001b[0;34m(self, func, convert_dtype, args, **kwargs)\u001b[0m\n\u001b[1;32m   4661\u001b[0m \u001b[38;5;28;01mdef\u001b[39;00m \u001b[38;5;21mapply\u001b[39m(\n\u001b[1;32m   4662\u001b[0m     \u001b[38;5;28mself\u001b[39m,\n\u001b[1;32m   4663\u001b[0m     func: AggFuncType,\n\u001b[0;32m   (...)\u001b[0m\n\u001b[1;32m   4666\u001b[0m     \u001b[38;5;241m*\u001b[39m\u001b[38;5;241m*\u001b[39mkwargs,\n\u001b[1;32m   4667\u001b[0m ) \u001b[38;5;241m-\u001b[39m\u001b[38;5;241m>\u001b[39m DataFrame \u001b[38;5;241m|\u001b[39m Series:\n\u001b[1;32m   4668\u001b[0m     \u001b[38;5;124;03m\"\"\"\u001b[39;00m\n\u001b[1;32m   4669\u001b[0m \u001b[38;5;124;03m    Invoke function on values of Series.\u001b[39;00m\n\u001b[1;32m   4670\u001b[0m \n\u001b[0;32m   (...)\u001b[0m\n\u001b[1;32m   4769\u001b[0m \u001b[38;5;124;03m    dtype: float64\u001b[39;00m\n\u001b[1;32m   4770\u001b[0m \u001b[38;5;124;03m    \"\"\"\u001b[39;00m\n\u001b[0;32m-> 4771\u001b[0m     \u001b[38;5;28;01mreturn\u001b[39;00m \u001b[43mSeriesApply\u001b[49m\u001b[43m(\u001b[49m\u001b[38;5;28;43mself\u001b[39;49m\u001b[43m,\u001b[49m\u001b[43m \u001b[49m\u001b[43mfunc\u001b[49m\u001b[43m,\u001b[49m\u001b[43m \u001b[49m\u001b[43mconvert_dtype\u001b[49m\u001b[43m,\u001b[49m\u001b[43m \u001b[49m\u001b[43margs\u001b[49m\u001b[43m,\u001b[49m\u001b[43m \u001b[49m\u001b[43mkwargs\u001b[49m\u001b[43m)\u001b[49m\u001b[38;5;241;43m.\u001b[39;49m\u001b[43mapply\u001b[49m\u001b[43m(\u001b[49m\u001b[43m)\u001b[49m\n",
      "File \u001b[0;32m~/.pyenv/versions/3.8.12/envs/webscraping/lib/python3.8/site-packages/pandas/core/apply.py:1105\u001b[0m, in \u001b[0;36mSeriesApply.apply\u001b[0;34m(self)\u001b[0m\n\u001b[1;32m   1102\u001b[0m     \u001b[38;5;28;01mreturn\u001b[39;00m \u001b[38;5;28mself\u001b[39m\u001b[38;5;241m.\u001b[39mapply_str()\n\u001b[1;32m   1104\u001b[0m \u001b[38;5;66;03m# self.f is Callable\u001b[39;00m\n\u001b[0;32m-> 1105\u001b[0m \u001b[38;5;28;01mreturn\u001b[39;00m \u001b[38;5;28;43mself\u001b[39;49m\u001b[38;5;241;43m.\u001b[39;49m\u001b[43mapply_standard\u001b[49m\u001b[43m(\u001b[49m\u001b[43m)\u001b[49m\n",
      "File \u001b[0;32m~/.pyenv/versions/3.8.12/envs/webscraping/lib/python3.8/site-packages/pandas/core/apply.py:1156\u001b[0m, in \u001b[0;36mSeriesApply.apply_standard\u001b[0;34m(self)\u001b[0m\n\u001b[1;32m   1154\u001b[0m     \u001b[38;5;28;01melse\u001b[39;00m:\n\u001b[1;32m   1155\u001b[0m         values \u001b[38;5;241m=\u001b[39m obj\u001b[38;5;241m.\u001b[39mastype(\u001b[38;5;28mobject\u001b[39m)\u001b[38;5;241m.\u001b[39m_values\n\u001b[0;32m-> 1156\u001b[0m         mapped \u001b[38;5;241m=\u001b[39m \u001b[43mlib\u001b[49m\u001b[38;5;241;43m.\u001b[39;49m\u001b[43mmap_infer\u001b[49m\u001b[43m(\u001b[49m\n\u001b[1;32m   1157\u001b[0m \u001b[43m            \u001b[49m\u001b[43mvalues\u001b[49m\u001b[43m,\u001b[49m\n\u001b[1;32m   1158\u001b[0m \u001b[43m            \u001b[49m\u001b[43mf\u001b[49m\u001b[43m,\u001b[49m\n\u001b[1;32m   1159\u001b[0m \u001b[43m            \u001b[49m\u001b[43mconvert\u001b[49m\u001b[38;5;241;43m=\u001b[39;49m\u001b[38;5;28;43mself\u001b[39;49m\u001b[38;5;241;43m.\u001b[39;49m\u001b[43mconvert_dtype\u001b[49m\u001b[43m,\u001b[49m\n\u001b[1;32m   1160\u001b[0m \u001b[43m        \u001b[49m\u001b[43m)\u001b[49m\n\u001b[1;32m   1162\u001b[0m \u001b[38;5;28;01mif\u001b[39;00m \u001b[38;5;28mlen\u001b[39m(mapped) \u001b[38;5;129;01mand\u001b[39;00m \u001b[38;5;28misinstance\u001b[39m(mapped[\u001b[38;5;241m0\u001b[39m], ABCSeries):\n\u001b[1;32m   1163\u001b[0m     \u001b[38;5;66;03m# GH#43986 Need to do list(mapped) in order to get treated as nested\u001b[39;00m\n\u001b[1;32m   1164\u001b[0m     \u001b[38;5;66;03m#  See also GH#25959 regarding EA support\u001b[39;00m\n\u001b[1;32m   1165\u001b[0m     \u001b[38;5;28;01mreturn\u001b[39;00m obj\u001b[38;5;241m.\u001b[39m_constructor_expanddim(\u001b[38;5;28mlist\u001b[39m(mapped), index\u001b[38;5;241m=\u001b[39mobj\u001b[38;5;241m.\u001b[39mindex)\n",
      "File \u001b[0;32m~/.pyenv/versions/3.8.12/envs/webscraping/lib/python3.8/site-packages/pandas/_libs/lib.pyx:2918\u001b[0m, in \u001b[0;36mpandas._libs.lib.map_infer\u001b[0;34m()\u001b[0m\n",
      "Cell \u001b[0;32mIn [112], line 18\u001b[0m, in \u001b[0;36m<lambda>\u001b[0;34m(x)\u001b[0m\n\u001b[1;32m     14\u001b[0m data[\u001b[38;5;124m'\u001b[39m\u001b[38;5;124mfit\u001b[39m\u001b[38;5;124m'\u001b[39m] \u001b[38;5;241m=\u001b[39m data[\u001b[38;5;124m'\u001b[39m\u001b[38;5;124mfit\u001b[39m\u001b[38;5;124m'\u001b[39m]\u001b[38;5;241m.\u001b[39mapply(\u001b[38;5;28;01mlambda\u001b[39;00m x: x\u001b[38;5;241m.\u001b[39mreplace(\u001b[38;5;124m'\u001b[39m\u001b[38;5;124m \u001b[39m\u001b[38;5;124m'\u001b[39m, \u001b[38;5;124m'\u001b[39m\u001b[38;5;124m_\u001b[39m\u001b[38;5;124m'\u001b[39m)\u001b[38;5;241m.\u001b[39mreplace(\u001b[38;5;124m'\u001b[39m\u001b[38;5;124m/\u001b[39m\u001b[38;5;124m'\u001b[39m, \u001b[38;5;124m'\u001b[39m\u001b[38;5;124m_\u001b[39m\u001b[38;5;124m'\u001b[39m)\u001b[38;5;241m.\u001b[39mlower())\n\u001b[1;32m     16\u001b[0m \u001b[38;5;66;03m# size\u001b[39;00m\n\u001b[1;32m     17\u001b[0m data[\u001b[38;5;124m'\u001b[39m\u001b[38;5;124minner_leg_length\u001b[39m\u001b[38;5;124m'\u001b[39m] \u001b[38;5;241m=\u001b[39m data[\u001b[38;5;124m'\u001b[39m\u001b[38;5;124msize\u001b[39m\u001b[38;5;124m'\u001b[39m]\u001b[38;5;241m.\u001b[39mapply(\u001b[38;5;28;01mlambda\u001b[39;00m x: re\u001b[38;5;241m.\u001b[39msearch(\u001b[38;5;124m'\u001b[39m\u001b[38;5;124mLength: (\u001b[39m\u001b[38;5;124m\\\u001b[39m\u001b[38;5;124md+\u001b[39m\u001b[38;5;124m\\\u001b[39m\u001b[38;5;124m.\u001b[39m\u001b[38;5;124m\\\u001b[39m\u001b[38;5;124md)\u001b[39m\u001b[38;5;124m'\u001b[39m, x)\u001b[38;5;241m.\u001b[39mgroup(\u001b[38;5;241m1\u001b[39m)\n\u001b[0;32m---> 18\u001b[0m                                               \u001b[38;5;28;01mif\u001b[39;00m (pd\u001b[38;5;241m.\u001b[39mnotnull(x) \u001b[38;5;241m&\u001b[39m \u001b[43mre\u001b[49m\u001b[38;5;241;43m.\u001b[39;49m\u001b[43msearch\u001b[49m\u001b[43m(\u001b[49m\u001b[38;5;124;43m'\u001b[39;49m\u001b[38;5;124;43mLength: (\u001b[39;49m\u001b[38;5;124;43m\\\u001b[39;49m\u001b[38;5;124;43md+\u001b[39;49m\u001b[38;5;124;43m\\\u001b[39;49m\u001b[38;5;124;43m.\u001b[39;49m\u001b[38;5;124;43m\\\u001b[39;49m\u001b[38;5;124;43md)\u001b[39;49m\u001b[38;5;124;43m'\u001b[39;49m\u001b[43m,\u001b[49m\u001b[43m \u001b[49m\u001b[43mx\u001b[49m\u001b[43m)\u001b[49m) \u001b[38;5;28;01melse\u001b[39;00m x)\n",
      "File \u001b[0;32m~/.pyenv/versions/3.8.12/lib/python3.8/re.py:201\u001b[0m, in \u001b[0;36msearch\u001b[0;34m(pattern, string, flags)\u001b[0m\n\u001b[1;32m    198\u001b[0m \u001b[38;5;28;01mdef\u001b[39;00m \u001b[38;5;21msearch\u001b[39m(pattern, string, flags\u001b[38;5;241m=\u001b[39m\u001b[38;5;241m0\u001b[39m):\n\u001b[1;32m    199\u001b[0m     \u001b[38;5;124;03m\"\"\"Scan through string looking for a match to the pattern, returning\u001b[39;00m\n\u001b[1;32m    200\u001b[0m \u001b[38;5;124;03m    a Match object, or None if no match was found.\"\"\"\u001b[39;00m\n\u001b[0;32m--> 201\u001b[0m     \u001b[38;5;28;01mreturn\u001b[39;00m \u001b[43m_compile\u001b[49m\u001b[43m(\u001b[49m\u001b[43mpattern\u001b[49m\u001b[43m,\u001b[49m\u001b[43m \u001b[49m\u001b[43mflags\u001b[49m\u001b[43m)\u001b[49m\u001b[38;5;241;43m.\u001b[39;49m\u001b[43msearch\u001b[49m\u001b[43m(\u001b[49m\u001b[43mstring\u001b[49m\u001b[43m)\u001b[49m\n",
      "\u001b[0;31mTypeError\u001b[0m: expected string or bytes-like object"
     ]
    }
   ],
   "source": [
    "# product_name\n",
    "data['product_name'] = data['product_name'].apply(lambda x: x.replace(' ', '_').lower())\n",
    "\n",
    "# product_price\n",
    "data['product_price'] = data['product_price'].apply(lambda x: x.replace ('$ ', '')).astype(float)\n",
    "\n",
    "# scrapy_datetime\n",
    "data['scrapy_datetime'] = pd.to_datetime(data['scrapy_datetime'], format='%Y-%m-%d %H:%M:%S')\n",
    "\n",
    "# color_name\n",
    "data['color_name'] = data['color_name'].apply(lambda x: x.replace(' ', '_').lower())\n",
    "\n",
    "# Fit\n",
    "data['fit'] = data['fit'].apply(lambda x: x.replace(' ', '_').replace('/', '_').lower())\n",
    "\n",
    "# size\n",
    "data['inner_leg_length'] = data['size'].apply(lambda x: re.search('Length: (\\d+\\.\\d)', x).group(1)\n",
    "                                              if (pd.notnull(x) & re.search('Length: (\\d+\\.\\d)', x)) else x)\n",
    "# Composition\n",
    "# Additional material information"
   ]
  },
  {
   "cell_type": "code",
   "execution_count": 108,
   "id": "af1a7037",
   "metadata": {
    "ExecuteTime": {
     "end_time": "2022-11-01T14:36:24.094167Z",
     "start_time": "2022-11-01T14:36:24.064032Z"
    }
   },
   "outputs": [
    {
     "ename": "AttributeError",
     "evalue": "'NoneType' object has no attribute 'group'",
     "output_type": "error",
     "traceback": [
      "\u001b[0;31m---------------------------------------------------------------------------\u001b[0m",
      "\u001b[0;31mAttributeError\u001b[0m                            Traceback (most recent call last)",
      "Cell \u001b[0;32mIn [108], line 1\u001b[0m\n\u001b[0;32m----> 1\u001b[0m \u001b[43mre\u001b[49m\u001b[38;5;241;43m.\u001b[39;49m\u001b[43msearch\u001b[49m\u001b[43m(\u001b[49m\u001b[38;5;124;43m'\u001b[39;49m\u001b[38;5;124;43mCircumference: (\u001b[39;49m\u001b[38;5;124;43m\\\u001b[39;49m\u001b[38;5;124;43md+\u001b[39;49m\u001b[38;5;124;43m\\\u001b[39;49m\u001b[38;5;124;43m.\u001b[39;49m\u001b[38;5;124;43m\\\u001b[39;49m\u001b[38;5;124;43md)\u001b[39;49m\u001b[38;5;124;43m'\u001b[39;49m\u001b[43m,\u001b[49m\u001b[43m \u001b[49m\u001b[43mdata\u001b[49m\u001b[38;5;241;43m.\u001b[39;49m\u001b[43mloc\u001b[49m\u001b[43m[\u001b[49m\u001b[38;5;241;43m3\u001b[39;49m\u001b[43m,\u001b[49m\u001b[43m \u001b[49m\u001b[38;5;124;43m'\u001b[39;49m\u001b[38;5;124;43msize\u001b[39;49m\u001b[38;5;124;43m'\u001b[39;49m\u001b[43m]\u001b[49m\u001b[43m)\u001b[49m\u001b[38;5;241;43m.\u001b[39;49m\u001b[43mgroup\u001b[49m(\u001b[38;5;241m1\u001b[39m)\n",
      "\u001b[0;31mAttributeError\u001b[0m: 'NoneType' object has no attribute 'group'"
     ]
    }
   ],
   "source": [
    "re.search('Circumference: (\\d+\\.\\d)', data.loc[3, 'size']).group(1)"
   ]
  },
  {
   "cell_type": "code",
   "execution_count": 107,
   "id": "f339c49b",
   "metadata": {
    "ExecuteTime": {
     "end_time": "2022-11-01T14:35:43.875599Z",
     "start_time": "2022-11-01T14:35:43.863414Z"
    }
   },
   "outputs": [
    {
     "data": {
      "text/plain": [
       "False"
      ]
     },
     "execution_count": 107,
     "metadata": {},
     "output_type": "execute_result"
    }
   ],
   "source": [
    "pd.notna(data.loc[2, 'size'])"
   ]
  },
  {
   "cell_type": "code",
   "execution_count": null,
   "id": "cb809572",
   "metadata": {},
   "outputs": [],
   "source": []
  }
 ],
 "metadata": {
  "kernelspec": {
   "display_name": "Python 3 (ipykernel)",
   "language": "python",
   "name": "python3"
  },
  "language_info": {
   "codemirror_mode": {
    "name": "ipython",
    "version": 3
   },
   "file_extension": ".py",
   "mimetype": "text/x-python",
   "name": "python",
   "nbconvert_exporter": "python",
   "pygments_lexer": "ipython3",
   "version": "3.8.12"
  }
 },
 "nbformat": 4,
 "nbformat_minor": 5
}
