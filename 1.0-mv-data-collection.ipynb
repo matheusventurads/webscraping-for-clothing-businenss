{
 "cells": [
  {
   "cell_type": "markdown",
   "id": "bbd91ce2",
   "metadata": {},
   "source": [
    "# IMPORTS"
   ]
  },
  {
   "cell_type": "code",
   "execution_count": 37,
   "id": "90aad99c",
   "metadata": {
    "ExecuteTime": {
     "end_time": "2022-10-27T14:35:54.398095Z",
     "start_time": "2022-10-27T14:35:54.393159Z"
    }
   },
   "outputs": [],
   "source": [
    "import requests\n",
    "import pandas as pd\n",
    "\n",
    "from datetime import datetime\n",
    "\n",
    "from bs4 import BeautifulSoup"
   ]
  },
  {
   "cell_type": "markdown",
   "id": "ad1abac2",
   "metadata": {},
   "source": [
    "## Helper functions"
   ]
  },
  {
   "cell_type": "markdown",
   "id": "438d4d1e",
   "metadata": {},
   "source": [
    "# DATA EXTRATION"
   ]
  },
  {
   "cell_type": "code",
   "execution_count": 4,
   "id": "f7e696ac",
   "metadata": {
    "ExecuteTime": {
     "end_time": "2022-10-27T13:55:32.550737Z",
     "start_time": "2022-10-27T13:55:31.812929Z"
    }
   },
   "outputs": [],
   "source": [
    "url = 'https://www2.hm.com/en_us/men/products/jeans.html'\n",
    "\n",
    "headers = {'User-Agent': 'Mozilla/5.0 (X11; Ubuntu; Linux x86_64; rv:106.0) Gecko/20100101 Firefox/106.0'}\n",
    "\n",
    "page = requests.get(url, headers=headers)"
   ]
  },
  {
   "cell_type": "code",
   "execution_count": 7,
   "id": "601ab958",
   "metadata": {
    "ExecuteTime": {
     "end_time": "2022-10-27T14:01:22.509832Z",
     "start_time": "2022-10-27T14:01:22.248263Z"
    }
   },
   "outputs": [],
   "source": [
    "soup = BeautifulSoup(page.text, 'html.parser')"
   ]
  },
  {
   "cell_type": "code",
   "execution_count": 9,
   "id": "fb212e21",
   "metadata": {
    "ExecuteTime": {
     "end_time": "2022-10-27T14:08:27.829506Z",
     "start_time": "2022-10-27T14:08:27.813249Z"
    }
   },
   "outputs": [],
   "source": [
    "products = soup.find('ul', class_='products-listing small')"
   ]
  },
  {
   "cell_type": "code",
   "execution_count": 18,
   "id": "8e3fcc2e",
   "metadata": {
    "ExecuteTime": {
     "end_time": "2022-10-27T14:17:02.696850Z",
     "start_time": "2022-10-27T14:17:02.681159Z"
    }
   },
   "outputs": [],
   "source": [
    "product_list = products.find_all('article', class_='hm-product-item')\n",
    "\n",
    "# product id\n",
    "product_id = [p.get('data-articlecode') for p in product_list]\n",
    "\n",
    "# product category\n",
    "product_category = [p.get('data-category') for p in product_list]"
   ]
  },
  {
   "cell_type": "code",
   "execution_count": 30,
   "id": "97f03ff8",
   "metadata": {
    "ExecuteTime": {
     "end_time": "2022-10-27T14:31:36.194107Z",
     "start_time": "2022-10-27T14:31:36.180922Z"
    }
   },
   "outputs": [],
   "source": [
    "# product name\n",
    "product_list = products.find_all('a', class_='link')\n",
    "product_name = [p.get_text() for p in product_list]"
   ]
  },
  {
   "cell_type": "code",
   "execution_count": 28,
   "id": "84839679",
   "metadata": {
    "ExecuteTime": {
     "end_time": "2022-10-27T14:27:40.036837Z",
     "start_time": "2022-10-27T14:27:40.024245Z"
    }
   },
   "outputs": [],
   "source": [
    "# price\n",
    "product_list = products.find_all('span', class_='price regular')\n",
    "product_price = [p.get_text() for p in product_list]"
   ]
  },
  {
   "cell_type": "code",
   "execution_count": null,
   "id": "3cb09169",
   "metadata": {},
   "outputs": [],
   "source": [
    "# product color"
   ]
  },
  {
   "cell_type": "code",
   "execution_count": null,
   "id": "2bf9c42e",
   "metadata": {},
   "outputs": [],
   "source": [
    "# product composition"
   ]
  },
  {
   "cell_type": "code",
   "execution_count": 40,
   "id": "3b0b7d72",
   "metadata": {
    "ExecuteTime": {
     "end_time": "2022-10-27T14:37:22.633479Z",
     "start_time": "2022-10-27T14:37:22.615976Z"
    }
   },
   "outputs": [],
   "source": [
    "data = pd.DataFrame([product_id, product_category, product_name, product_price]).T\n",
    "data.columns = ['product_id', 'product_category', 'product_name', 'product_price']\n",
    "\n",
    "# scrapy datetime\n",
    "data['scrapy_datetime'] = datetime.now().strftime('%Y-%m-%d %H:%M:%S')"
   ]
  },
  {
   "cell_type": "code",
   "execution_count": 41,
   "id": "a70c8731",
   "metadata": {
    "ExecuteTime": {
     "end_time": "2022-10-27T14:37:29.490507Z",
     "start_time": "2022-10-27T14:37:29.469836Z"
    }
   },
   "outputs": [
    {
     "data": {
      "text/html": [
       "<div>\n",
       "<style scoped>\n",
       "    .dataframe tbody tr th:only-of-type {\n",
       "        vertical-align: middle;\n",
       "    }\n",
       "\n",
       "    .dataframe tbody tr th {\n",
       "        vertical-align: top;\n",
       "    }\n",
       "\n",
       "    .dataframe thead th {\n",
       "        text-align: right;\n",
       "    }\n",
       "</style>\n",
       "<table border=\"1\" class=\"dataframe\">\n",
       "  <thead>\n",
       "    <tr style=\"text-align: right;\">\n",
       "      <th></th>\n",
       "      <th>product_id</th>\n",
       "      <th>product_category</th>\n",
       "      <th>product_name</th>\n",
       "      <th>product_price</th>\n",
       "      <th>scrapy_datetime</th>\n",
       "    </tr>\n",
       "  </thead>\n",
       "  <tbody>\n",
       "    <tr>\n",
       "      <th>0</th>\n",
       "      <td>1024256007</td>\n",
       "      <td>men_jeans_slim</td>\n",
       "      <td>Slim Jeans</td>\n",
       "      <td>$ 19.99</td>\n",
       "      <td>2022-10-27 11:37:22</td>\n",
       "    </tr>\n",
       "    <tr>\n",
       "      <th>1</th>\n",
       "      <td>0985159001</td>\n",
       "      <td>men_jeans_skinny</td>\n",
       "      <td>Skinny Jeans</td>\n",
       "      <td>$ 24.99</td>\n",
       "      <td>2022-10-27 11:37:22</td>\n",
       "    </tr>\n",
       "    <tr>\n",
       "      <th>2</th>\n",
       "      <td>1024256001</td>\n",
       "      <td>men_jeans_slim</td>\n",
       "      <td>Slim Jeans</td>\n",
       "      <td>$ 19.99</td>\n",
       "      <td>2022-10-27 11:37:22</td>\n",
       "    </tr>\n",
       "    <tr>\n",
       "      <th>3</th>\n",
       "      <td>1071707008</td>\n",
       "      <td>men_jeans_relaxed</td>\n",
       "      <td>Relaxed Jeans</td>\n",
       "      <td>$ 29.99</td>\n",
       "      <td>2022-10-27 11:37:22</td>\n",
       "    </tr>\n",
       "    <tr>\n",
       "      <th>4</th>\n",
       "      <td>1024711006</td>\n",
       "      <td>men_jeans_slim</td>\n",
       "      <td>Slim Jeans</td>\n",
       "      <td>$ 29.99</td>\n",
       "      <td>2022-10-27 11:37:22</td>\n",
       "    </tr>\n",
       "  </tbody>\n",
       "</table>\n",
       "</div>"
      ],
      "text/plain": [
       "   product_id   product_category   product_name product_price  \\\n",
       "0  1024256007     men_jeans_slim     Slim Jeans       $ 19.99   \n",
       "1  0985159001   men_jeans_skinny   Skinny Jeans       $ 24.99   \n",
       "2  1024256001     men_jeans_slim     Slim Jeans       $ 19.99   \n",
       "3  1071707008  men_jeans_relaxed  Relaxed Jeans       $ 29.99   \n",
       "4  1024711006     men_jeans_slim     Slim Jeans       $ 29.99   \n",
       "\n",
       "       scrapy_datetime  \n",
       "0  2022-10-27 11:37:22  \n",
       "1  2022-10-27 11:37:22  \n",
       "2  2022-10-27 11:37:22  \n",
       "3  2022-10-27 11:37:22  \n",
       "4  2022-10-27 11:37:22  "
      ]
     },
     "execution_count": 41,
     "metadata": {},
     "output_type": "execute_result"
    }
   ],
   "source": [
    "data.head()"
   ]
  },
  {
   "cell_type": "code",
   "execution_count": null,
   "id": "bdf8a815",
   "metadata": {},
   "outputs": [],
   "source": []
  }
 ],
 "metadata": {
  "kernelspec": {
   "display_name": "Python 3 (ipykernel)",
   "language": "python",
   "name": "python3"
  },
  "language_info": {
   "codemirror_mode": {
    "name": "ipython",
    "version": 3
   },
   "file_extension": ".py",
   "mimetype": "text/x-python",
   "name": "python",
   "nbconvert_exporter": "python",
   "pygments_lexer": "ipython3",
   "version": "3.8.12"
  }
 },
 "nbformat": 4,
 "nbformat_minor": 5
}
