{
 "cells": [
  {
   "cell_type": "markdown",
   "id": "e01d1088",
   "metadata": {},
   "source": [
    "# IMPORTS"
   ]
  },
  {
   "cell_type": "code",
   "execution_count": 10,
   "id": "46597215",
   "metadata": {
    "ExecuteTime": {
     "end_time": "2022-11-22T12:25:56.660191Z",
     "start_time": "2022-11-22T12:25:56.372054Z"
    }
   },
   "outputs": [],
   "source": [
    "import re\n",
    "import requests\n",
    "import sqlite3\n",
    "\n",
    "import pandas as pd\n",
    "import numpy  as np\n",
    "\n",
    "from datetime   import datetime\n",
    "from bs4        import BeautifulSoup\n",
    "from sqlalchemy import create_engine"
   ]
  },
  {
   "cell_type": "markdown",
   "id": "f96e34a3",
   "metadata": {},
   "source": [
    "## Helper functions"
   ]
  },
  {
   "cell_type": "markdown",
   "id": "bd57a2d1",
   "metadata": {
    "heading_collapsed": true
   },
   "source": [
    "# DATA EXTRATION"
   ]
  },
  {
   "cell_type": "code",
   "execution_count": 2,
   "id": "1c2188f5",
   "metadata": {
    "ExecuteTime": {
     "end_time": "2022-11-03T13:00:51.886283Z",
     "start_time": "2022-11-03T13:00:50.425379Z"
    },
    "hidden": true
   },
   "outputs": [],
   "source": [
    "url = 'https://www2.hm.com/en_us/men/products/jeans.html'\n",
    "\n",
    "headers = {'User-Agent': 'Mozilla/5.0 (X11; Ubuntu; Linux x86_64; rv:106.0) Gecko/20100101 Firefox/106.0'}\n",
    "\n",
    "page = requests.get(url, headers=headers)\n",
    "\n",
    "soup = BeautifulSoup(page.text, 'html.parser')"
   ]
  },
  {
   "cell_type": "markdown",
   "id": "379affdd",
   "metadata": {
    "hidden": true
   },
   "source": [
    "## URL for all products"
   ]
  },
  {
   "cell_type": "code",
   "execution_count": 3,
   "id": "acc4ff9e",
   "metadata": {
    "ExecuteTime": {
     "end_time": "2022-11-03T13:00:51.932032Z",
     "start_time": "2022-11-03T13:00:51.893439Z"
    },
    "hidden": true
   },
   "outputs": [
    {
     "data": {
      "text/plain": [
       "'https://www2.hm.com/en_us/men/products/jeans.html?page-size=108'"
      ]
     },
     "execution_count": 3,
     "metadata": {},
     "output_type": "execute_result"
    }
   ],
   "source": [
    "# getting number of products\n",
    "total_item = soup.find_all('h2', class_='load-more-heading')[0].get('data-total')\n",
    "total_item\n",
    "\n",
    "# calculating number of pages\n",
    "page_number = np.ceil(int(total_item)/36)\n",
    "page_number\n",
    "\n",
    "# generating url\n",
    "url02 = url + '?page-size=' + str(int(page_number)*36)\n",
    "url02"
   ]
  },
  {
   "cell_type": "code",
   "execution_count": 4,
   "id": "ac3a645b",
   "metadata": {
    "ExecuteTime": {
     "end_time": "2022-11-03T13:00:54.779577Z",
     "start_time": "2022-11-03T13:00:51.940867Z"
    },
    "hidden": true
   },
   "outputs": [],
   "source": [
    "page = requests.get(url02, headers=headers)\n",
    "\n",
    "soup = BeautifulSoup(page.text, 'html.parser')"
   ]
  },
  {
   "cell_type": "markdown",
   "id": "8f21a378",
   "metadata": {
    "hidden": true
   },
   "source": [
    "## Products details"
   ]
  },
  {
   "cell_type": "code",
   "execution_count": 5,
   "id": "78ebab48",
   "metadata": {
    "ExecuteTime": {
     "end_time": "2022-11-03T13:00:54.811518Z",
     "start_time": "2022-11-03T13:00:54.782127Z"
    },
    "hidden": true
   },
   "outputs": [],
   "source": [
    "products = soup.find('ul', class_='products-listing small')\n",
    "\n",
    "product_list = products.find_all('article', class_='hm-product-item')"
   ]
  },
  {
   "cell_type": "markdown",
   "id": "aa93e76e",
   "metadata": {
    "hidden": true
   },
   "source": [
    "### Product ID\n"
   ]
  },
  {
   "cell_type": "code",
   "execution_count": 6,
   "id": "3da59be1",
   "metadata": {
    "ExecuteTime": {
     "end_time": "2022-11-03T13:00:54.844092Z",
     "start_time": "2022-11-03T13:00:54.814360Z"
    },
    "hidden": true
   },
   "outputs": [],
   "source": [
    "# product id\n",
    "product_id = [p.get('data-articlecode') for p in product_list]"
   ]
  },
  {
   "cell_type": "markdown",
   "id": "dc16970e",
   "metadata": {
    "ExecuteTime": {
     "end_time": "2022-10-29T10:53:21.436590Z",
     "start_time": "2022-10-29T10:53:21.430391Z"
    },
    "hidden": true
   },
   "source": [
    "### Product Category"
   ]
  },
  {
   "cell_type": "code",
   "execution_count": 7,
   "id": "28ddd2f0",
   "metadata": {
    "ExecuteTime": {
     "end_time": "2022-11-03T13:00:54.854849Z",
     "start_time": "2022-11-03T13:00:54.847210Z"
    },
    "hidden": true
   },
   "outputs": [],
   "source": [
    "# product category\n",
    "product_category = [p.get('data-category') for p in product_list]"
   ]
  },
  {
   "cell_type": "markdown",
   "id": "e4402e49",
   "metadata": {
    "hidden": true
   },
   "source": [
    "### Product Name"
   ]
  },
  {
   "cell_type": "code",
   "execution_count": 8,
   "id": "d789366b",
   "metadata": {
    "ExecuteTime": {
     "end_time": "2022-11-03T13:00:54.885444Z",
     "start_time": "2022-11-03T13:00:54.860715Z"
    },
    "hidden": true
   },
   "outputs": [],
   "source": [
    "# product name\n",
    "product_list = products.find_all('a', class_='link')\n",
    "product_name = [p.get_text() for p in product_list]"
   ]
  },
  {
   "cell_type": "markdown",
   "id": "bc512853",
   "metadata": {
    "hidden": true
   },
   "source": [
    "### Product Price"
   ]
  },
  {
   "cell_type": "code",
   "execution_count": 9,
   "id": "42b15ad8",
   "metadata": {
    "ExecuteTime": {
     "end_time": "2022-11-03T13:00:54.924423Z",
     "start_time": "2022-11-03T13:00:54.894327Z"
    },
    "hidden": true
   },
   "outputs": [],
   "source": [
    "# price\n",
    "product_list = products.find_all('span', class_='price regular')\n",
    "product_price = [p.get_text() for p in product_list]"
   ]
  },
  {
   "cell_type": "markdown",
   "id": "0c452a06",
   "metadata": {
    "hidden": true
   },
   "source": [
    "### Creating Dataset"
   ]
  },
  {
   "cell_type": "code",
   "execution_count": 10,
   "id": "d14a02c1",
   "metadata": {
    "ExecuteTime": {
     "end_time": "2022-11-03T13:00:54.969019Z",
     "start_time": "2022-11-03T13:00:54.937442Z"
    },
    "hidden": true
   },
   "outputs": [],
   "source": [
    "data = pd.DataFrame([product_id, product_category, product_name, product_price]).T\n",
    "data.columns = ['product_id', 'product_category', 'product_name', 'product_price']\n",
    "\n",
    "# scrapy datetime\n",
    "data['scrapy_datetime'] = datetime.now().strftime('%Y-%m-%d %H:%M:%S')"
   ]
  },
  {
   "cell_type": "code",
   "execution_count": 11,
   "id": "f350657f",
   "metadata": {
    "ExecuteTime": {
     "end_time": "2022-11-03T13:00:55.008752Z",
     "start_time": "2022-11-03T13:00:54.976459Z"
    },
    "hidden": true
   },
   "outputs": [
    {
     "data": {
      "text/html": [
       "<div>\n",
       "<style scoped>\n",
       "    .dataframe tbody tr th:only-of-type {\n",
       "        vertical-align: middle;\n",
       "    }\n",
       "\n",
       "    .dataframe tbody tr th {\n",
       "        vertical-align: top;\n",
       "    }\n",
       "\n",
       "    .dataframe thead th {\n",
       "        text-align: right;\n",
       "    }\n",
       "</style>\n",
       "<table border=\"1\" class=\"dataframe\">\n",
       "  <thead>\n",
       "    <tr style=\"text-align: right;\">\n",
       "      <th></th>\n",
       "      <th>product_id</th>\n",
       "      <th>product_category</th>\n",
       "      <th>product_name</th>\n",
       "      <th>product_price</th>\n",
       "      <th>scrapy_datetime</th>\n",
       "    </tr>\n",
       "  </thead>\n",
       "  <tbody>\n",
       "    <tr>\n",
       "      <th>0</th>\n",
       "      <td>1100162002</td>\n",
       "      <td>men_jeans_regular</td>\n",
       "      <td>Essentials No 2: THE JEANS</td>\n",
       "      <td>$ 39.99</td>\n",
       "      <td>2022-11-03 10:00:54</td>\n",
       "    </tr>\n",
       "    <tr>\n",
       "      <th>1</th>\n",
       "      <td>1100162003</td>\n",
       "      <td>men_jeans_regular</td>\n",
       "      <td>Essentials No 2: THE JEANS</td>\n",
       "      <td>$ 39.99</td>\n",
       "      <td>2022-11-03 10:00:54</td>\n",
       "    </tr>\n",
       "    <tr>\n",
       "      <th>2</th>\n",
       "      <td>0985159001</td>\n",
       "      <td>men_jeans_skinny</td>\n",
       "      <td>Skinny Jeans</td>\n",
       "      <td>$ 24.99</td>\n",
       "      <td>2022-11-03 10:00:54</td>\n",
       "    </tr>\n",
       "    <tr>\n",
       "      <th>3</th>\n",
       "      <td>1024256001</td>\n",
       "      <td>men_jeans_slim</td>\n",
       "      <td>Slim Jeans</td>\n",
       "      <td>$ 19.99</td>\n",
       "      <td>2022-11-03 10:00:54</td>\n",
       "    </tr>\n",
       "    <tr>\n",
       "      <th>4</th>\n",
       "      <td>0690449067</td>\n",
       "      <td>men_jeans_ripped</td>\n",
       "      <td>Skinny Jeans</td>\n",
       "      <td>$ 39.99</td>\n",
       "      <td>2022-11-03 10:00:54</td>\n",
       "    </tr>\n",
       "  </tbody>\n",
       "</table>\n",
       "</div>"
      ],
      "text/plain": [
       "   product_id   product_category                product_name product_price  \\\n",
       "0  1100162002  men_jeans_regular  Essentials No 2: THE JEANS       $ 39.99   \n",
       "1  1100162003  men_jeans_regular  Essentials No 2: THE JEANS       $ 39.99   \n",
       "2  0985159001   men_jeans_skinny                Skinny Jeans       $ 24.99   \n",
       "3  1024256001     men_jeans_slim                  Slim Jeans       $ 19.99   \n",
       "4  0690449067   men_jeans_ripped                Skinny Jeans       $ 39.99   \n",
       "\n",
       "       scrapy_datetime  \n",
       "0  2022-11-03 10:00:54  \n",
       "1  2022-11-03 10:00:54  \n",
       "2  2022-11-03 10:00:54  \n",
       "3  2022-11-03 10:00:54  \n",
       "4  2022-11-03 10:00:54  "
      ]
     },
     "execution_count": 11,
     "metadata": {},
     "output_type": "execute_result"
    }
   ],
   "source": [
    "data.head()"
   ]
  },
  {
   "cell_type": "markdown",
   "id": "13130226",
   "metadata": {
    "hidden": true
   },
   "source": [
    "### Product Color and Composition"
   ]
  },
  {
   "cell_type": "code",
   "execution_count": 12,
   "id": "e8cbd584",
   "metadata": {
    "ExecuteTime": {
     "end_time": "2022-11-03T13:03:41.899609Z",
     "start_time": "2022-11-03T13:00:55.013366Z"
    },
    "hidden": true
   },
   "outputs": [
    {
     "data": {
      "text/html": [
       "<div>\n",
       "<style scoped>\n",
       "    .dataframe tbody tr th:only-of-type {\n",
       "        vertical-align: middle;\n",
       "    }\n",
       "\n",
       "    .dataframe tbody tr th {\n",
       "        vertical-align: top;\n",
       "    }\n",
       "\n",
       "    .dataframe thead th {\n",
       "        text-align: right;\n",
       "    }\n",
       "</style>\n",
       "<table border=\"1\" class=\"dataframe\">\n",
       "  <thead>\n",
       "    <tr style=\"text-align: right;\">\n",
       "      <th></th>\n",
       "      <th>product_id</th>\n",
       "      <th>product_category</th>\n",
       "      <th>product_name</th>\n",
       "      <th>product_price</th>\n",
       "      <th>scrapy_datetime</th>\n",
       "      <th>color_name</th>\n",
       "      <th>fit</th>\n",
       "      <th>size</th>\n",
       "      <th>composition</th>\n",
       "      <th>additional_material</th>\n",
       "    </tr>\n",
       "  </thead>\n",
       "  <tbody>\n",
       "    <tr>\n",
       "      <th>0</th>\n",
       "      <td>1100162002</td>\n",
       "      <td>men_jeans_regular</td>\n",
       "      <td>Essentials No 2: THE JEANS</td>\n",
       "      <td>$ 39.99</td>\n",
       "      <td>2022-11-03 10:00:54</td>\n",
       "      <td>Denim blue</td>\n",
       "      <td>Regular fit</td>\n",
       "      <td>Inner leg: Length: 79.5 cm (Size 33/32)</td>\n",
       "      <td>Shell: Cotton 99%, Spandex 1%Pocket lining: Po...</td>\n",
       "      <td>NaN</td>\n",
       "    </tr>\n",
       "    <tr>\n",
       "      <th>1</th>\n",
       "      <td>1100162003</td>\n",
       "      <td>men_jeans_regular</td>\n",
       "      <td>Essentials No 2: THE JEANS</td>\n",
       "      <td>$ 39.99</td>\n",
       "      <td>2022-11-03 10:00:54</td>\n",
       "      <td>Denim gray</td>\n",
       "      <td>Regular fit</td>\n",
       "      <td>Inner leg: Length: 79.5 cm (Size 33/32)</td>\n",
       "      <td>Shell: Cotton 99%, Spandex 1%Pocket lining: Po...</td>\n",
       "      <td>NaN</td>\n",
       "    </tr>\n",
       "    <tr>\n",
       "      <th>2</th>\n",
       "      <td>0985159001</td>\n",
       "      <td>men_jeans_skinny</td>\n",
       "      <td>Skinny Jeans</td>\n",
       "      <td>$ 24.99</td>\n",
       "      <td>2022-11-03 10:00:54</td>\n",
       "      <td>Black</td>\n",
       "      <td>Skinny fit</td>\n",
       "      <td>NaN</td>\n",
       "      <td>Shell: Cotton 99%, Spandex 1%Pocket lining: Co...</td>\n",
       "      <td>Recycled cotton 20%</td>\n",
       "    </tr>\n",
       "    <tr>\n",
       "      <th>3</th>\n",
       "      <td>1024256001</td>\n",
       "      <td>men_jeans_slim</td>\n",
       "      <td>Slim Jeans</td>\n",
       "      <td>$ 19.99</td>\n",
       "      <td>2022-11-03 10:00:54</td>\n",
       "      <td>Black</td>\n",
       "      <td>Slim fit</td>\n",
       "      <td>NaN</td>\n",
       "      <td>Shell: Cotton 99%, Spandex 1%Pocket lining: Po...</td>\n",
       "      <td>NaN</td>\n",
       "    </tr>\n",
       "    <tr>\n",
       "      <th>4</th>\n",
       "      <td>0690449067</td>\n",
       "      <td>men_jeans_ripped</td>\n",
       "      <td>Skinny Jeans</td>\n",
       "      <td>$ 39.99</td>\n",
       "      <td>2022-11-03 10:00:54</td>\n",
       "      <td>Denim blue</td>\n",
       "      <td>Skinny fit</td>\n",
       "      <td>NaN</td>\n",
       "      <td>Shell: Cotton 98%, Spandex 2%Pocket lining: Po...</td>\n",
       "      <td>NaN</td>\n",
       "    </tr>\n",
       "    <tr>\n",
       "      <th>...</th>\n",
       "      <td>...</td>\n",
       "      <td>...</td>\n",
       "      <td>...</td>\n",
       "      <td>...</td>\n",
       "      <td>...</td>\n",
       "      <td>...</td>\n",
       "      <td>...</td>\n",
       "      <td>...</td>\n",
       "      <td>...</td>\n",
       "      <td>...</td>\n",
       "    </tr>\n",
       "    <tr>\n",
       "      <th>87</th>\n",
       "      <td>1025726003</td>\n",
       "      <td>men_jeans_relaxed</td>\n",
       "      <td>Relaxed Jeans</td>\n",
       "      <td>$ 39.99</td>\n",
       "      <td>2022-11-03 10:00:54</td>\n",
       "      <td>Graphite gray</td>\n",
       "      <td>Relaxed fit</td>\n",
       "      <td>Inner leg: Length: 81.0 cm (Size 33/32)Waist: ...</td>\n",
       "      <td>Shell: Cotton 100%Pocket lining: Polyester 65%...</td>\n",
       "      <td>NaN</td>\n",
       "    </tr>\n",
       "    <tr>\n",
       "      <th>88</th>\n",
       "      <td>1027852007</td>\n",
       "      <td>men_jeans_joggers</td>\n",
       "      <td>Relaxed Denim Joggers</td>\n",
       "      <td>$ 29.99</td>\n",
       "      <td>2022-11-03 10:00:54</td>\n",
       "      <td>Denim blue</td>\n",
       "      <td>Relaxed fit</td>\n",
       "      <td>Inner leg: Length: 77.7 cm (Size L)</td>\n",
       "      <td>Shell: Cotton 100%Pocket lining: Cotton 100%</td>\n",
       "      <td>NaN</td>\n",
       "    </tr>\n",
       "    <tr>\n",
       "      <th>89</th>\n",
       "      <td>0875105016</td>\n",
       "      <td>men_jeans_relaxed</td>\n",
       "      <td>Relaxed Jeans</td>\n",
       "      <td>$ 39.99</td>\n",
       "      <td>2022-11-03 10:00:54</td>\n",
       "      <td>Denim blue</td>\n",
       "      <td>Relaxed fit</td>\n",
       "      <td>Inner leg: Length: 89.5 cm (Size 33)Waist: Cir...</td>\n",
       "      <td>Shell: Cotton 100%Pocket lining: Polyester 65%...</td>\n",
       "      <td>NaN</td>\n",
       "    </tr>\n",
       "    <tr>\n",
       "      <th>90</th>\n",
       "      <td>0811993037</td>\n",
       "      <td>men_jeans_regular</td>\n",
       "      <td>Regular Jeans</td>\n",
       "      <td>$ 29.99</td>\n",
       "      <td>2022-11-03 10:00:54</td>\n",
       "      <td>Dark blue</td>\n",
       "      <td>Regular fit</td>\n",
       "      <td>NaN</td>\n",
       "      <td>Cotton 99%, Spandex 1%</td>\n",
       "      <td>Recycled cotton 20%</td>\n",
       "    </tr>\n",
       "    <tr>\n",
       "      <th>91</th>\n",
       "      <td>0868115004</td>\n",
       "      <td>men_jeans_skinny</td>\n",
       "      <td>Skinny Cropped Jeans</td>\n",
       "      <td>$ 29.99</td>\n",
       "      <td>2022-11-03 10:00:54</td>\n",
       "      <td>Denim blue</td>\n",
       "      <td>Skinny fit</td>\n",
       "      <td>NaN</td>\n",
       "      <td>Shell: Cotton 89%, Polyester 10%, Spandex 1%Po...</td>\n",
       "      <td>NaN</td>\n",
       "    </tr>\n",
       "  </tbody>\n",
       "</table>\n",
       "<p>92 rows × 10 columns</p>\n",
       "</div>"
      ],
      "text/plain": [
       "    product_id   product_category                product_name product_price  \\\n",
       "0   1100162002  men_jeans_regular  Essentials No 2: THE JEANS       $ 39.99   \n",
       "1   1100162003  men_jeans_regular  Essentials No 2: THE JEANS       $ 39.99   \n",
       "2   0985159001   men_jeans_skinny                Skinny Jeans       $ 24.99   \n",
       "3   1024256001     men_jeans_slim                  Slim Jeans       $ 19.99   \n",
       "4   0690449067   men_jeans_ripped                Skinny Jeans       $ 39.99   \n",
       "..         ...                ...                         ...           ...   \n",
       "87  1025726003  men_jeans_relaxed               Relaxed Jeans       $ 39.99   \n",
       "88  1027852007  men_jeans_joggers       Relaxed Denim Joggers       $ 29.99   \n",
       "89  0875105016  men_jeans_relaxed               Relaxed Jeans       $ 39.99   \n",
       "90  0811993037  men_jeans_regular               Regular Jeans       $ 29.99   \n",
       "91  0868115004   men_jeans_skinny        Skinny Cropped Jeans       $ 29.99   \n",
       "\n",
       "        scrapy_datetime     color_name          fit  \\\n",
       "0   2022-11-03 10:00:54     Denim blue  Regular fit   \n",
       "1   2022-11-03 10:00:54     Denim gray  Regular fit   \n",
       "2   2022-11-03 10:00:54          Black   Skinny fit   \n",
       "3   2022-11-03 10:00:54          Black     Slim fit   \n",
       "4   2022-11-03 10:00:54     Denim blue   Skinny fit   \n",
       "..                  ...            ...          ...   \n",
       "87  2022-11-03 10:00:54  Graphite gray  Relaxed fit   \n",
       "88  2022-11-03 10:00:54     Denim blue  Relaxed fit   \n",
       "89  2022-11-03 10:00:54     Denim blue  Relaxed fit   \n",
       "90  2022-11-03 10:00:54      Dark blue  Regular fit   \n",
       "91  2022-11-03 10:00:54     Denim blue   Skinny fit   \n",
       "\n",
       "                                                 size  \\\n",
       "0             Inner leg: Length: 79.5 cm (Size 33/32)   \n",
       "1             Inner leg: Length: 79.5 cm (Size 33/32)   \n",
       "2                                                 NaN   \n",
       "3                                                 NaN   \n",
       "4                                                 NaN   \n",
       "..                                                ...   \n",
       "87  Inner leg: Length: 81.0 cm (Size 33/32)Waist: ...   \n",
       "88                Inner leg: Length: 77.7 cm (Size L)   \n",
       "89  Inner leg: Length: 89.5 cm (Size 33)Waist: Cir...   \n",
       "90                                                NaN   \n",
       "91                                                NaN   \n",
       "\n",
       "                                          composition  additional_material  \n",
       "0   Shell: Cotton 99%, Spandex 1%Pocket lining: Po...                  NaN  \n",
       "1   Shell: Cotton 99%, Spandex 1%Pocket lining: Po...                  NaN  \n",
       "2   Shell: Cotton 99%, Spandex 1%Pocket lining: Co...  Recycled cotton 20%  \n",
       "3   Shell: Cotton 99%, Spandex 1%Pocket lining: Po...                  NaN  \n",
       "4   Shell: Cotton 98%, Spandex 2%Pocket lining: Po...                  NaN  \n",
       "..                                                ...                  ...  \n",
       "87  Shell: Cotton 100%Pocket lining: Polyester 65%...                  NaN  \n",
       "88       Shell: Cotton 100%Pocket lining: Cotton 100%                  NaN  \n",
       "89  Shell: Cotton 100%Pocket lining: Polyester 65%...                  NaN  \n",
       "90                             Cotton 99%, Spandex 1%  Recycled cotton 20%  \n",
       "91  Shell: Cotton 89%, Polyester 10%, Spandex 1%Po...                  NaN  \n",
       "\n",
       "[92 rows x 10 columns]"
      ]
     },
     "execution_count": 12,
     "metadata": {},
     "output_type": "execute_result"
    }
   ],
   "source": [
    "# empty dataframe for append\n",
    "df_color = pd.DataFrame()\n",
    "df_composition = pd.DataFrame()\n",
    "\n",
    "# iteration for each id product\n",
    "for code in data['product_id']:\n",
    "    url02 = 'https://www2.hm.com/en_us/productpage.' + str(code) + '.html'\n",
    "\n",
    "    page = requests.get(url02, headers=headers)\n",
    "    soup = BeautifulSoup(page.text, 'html.parser')\n",
    "    \n",
    "    # Product Color\n",
    "    color_name = soup.find('a', class_='filter-option miniature active').get('data-color')\n",
    "\n",
    "    # product id\n",
    "    product_code = soup.find('a', class_='filter-option miniature active').get('data-articlecode')\n",
    "\n",
    "    aux1 = pd.DataFrame({'product_id': product_code, 'color_name': color_name}, index=[0])\n",
    "    df_color = pd.concat([df_color, aux1])\n",
    "\n",
    "    # Product Composition \n",
    "    product_composition_list = soup.find_all('div', class_='details-attributes-list-item')\n",
    "\n",
    "    product_composition = [list(filter(None, p.get_text().split('\\n'))) for p in product_composition_list]\n",
    "    \n",
    "    composition = pd.DataFrame(product_composition).T\n",
    "\n",
    "    # rename dataframe\n",
    "    composition.columns = composition.iloc[0]\n",
    "\n",
    "    # delete first row\n",
    "    composition['Art. No.'] = composition['Art. No.'].fillna(method='ffill')\n",
    "    composition = composition.iloc[1:]\n",
    "\n",
    "    composition_aux = composition.fillna('').groupby(['Art. No.'], as_index=False).sum()\n",
    "\n",
    "    df_composition = pd.concat([df_composition, composition_aux], axis=0)\n",
    "    \n",
    "df_composition = df_composition[['Art. No.', 'Fit', 'Size', 'Composition', 'Additional material information']]\n",
    "df_composition.rename(columns={'Art. No.': 'product_id', 'Fit': 'fit', 'Size': 'size', 'Composition':\n",
    "                               'composition', 'Additional material information': 'additional_material'},\n",
    "                               inplace=True)\n",
    "\n",
    "# merging the dataframes\n",
    "df_details = pd.merge(df_color, df_composition, how='left', on='product_id')\n",
    "\n",
    "data = pd.merge(data, df_details, how='left', on='product_id')\n",
    "data"
   ]
  },
  {
   "cell_type": "markdown",
   "id": "31549750",
   "metadata": {
    "hidden": true
   },
   "source": [
    "## Saving the dataset"
   ]
  },
  {
   "cell_type": "code",
   "execution_count": 13,
   "id": "f2e484ec",
   "metadata": {
    "ExecuteTime": {
     "end_time": "2022-11-03T13:03:41.920703Z",
     "start_time": "2022-11-03T13:03:41.903646Z"
    },
    "hidden": true
   },
   "outputs": [],
   "source": [
    "#data.to_csv('data_hm.csv', index=False)"
   ]
  },
  {
   "cell_type": "markdown",
   "id": "92cb454c",
   "metadata": {
    "heading_collapsed": true
   },
   "source": [
    "# DATA MANIPULATION"
   ]
  },
  {
   "cell_type": "code",
   "execution_count": 2,
   "id": "ea2108ec",
   "metadata": {
    "ExecuteTime": {
     "end_time": "2022-11-22T12:19:05.556238Z",
     "start_time": "2022-11-22T12:19:05.520823Z"
    },
    "hidden": true
   },
   "outputs": [],
   "source": [
    "data = pd.read_csv('data_hm.csv')"
   ]
  },
  {
   "cell_type": "code",
   "execution_count": 3,
   "id": "fbaa34f1",
   "metadata": {
    "ExecuteTime": {
     "end_time": "2022-11-22T12:19:07.390779Z",
     "start_time": "2022-11-22T12:19:07.337406Z"
    },
    "hidden": true
   },
   "outputs": [
    {
     "data": {
      "text/html": [
       "<div>\n",
       "<style scoped>\n",
       "    .dataframe tbody tr th:only-of-type {\n",
       "        vertical-align: middle;\n",
       "    }\n",
       "\n",
       "    .dataframe tbody tr th {\n",
       "        vertical-align: top;\n",
       "    }\n",
       "\n",
       "    .dataframe thead th {\n",
       "        text-align: right;\n",
       "    }\n",
       "</style>\n",
       "<table border=\"1\" class=\"dataframe\">\n",
       "  <thead>\n",
       "    <tr style=\"text-align: right;\">\n",
       "      <th></th>\n",
       "      <th>product_id</th>\n",
       "      <th>product_category</th>\n",
       "      <th>product_name</th>\n",
       "      <th>product_price</th>\n",
       "      <th>scrapy_datetime</th>\n",
       "      <th>color_name</th>\n",
       "      <th>fit</th>\n",
       "      <th>size</th>\n",
       "      <th>composition</th>\n",
       "      <th>additional_material</th>\n",
       "    </tr>\n",
       "  </thead>\n",
       "  <tbody>\n",
       "    <tr>\n",
       "      <th>0</th>\n",
       "      <td>1100162002</td>\n",
       "      <td>men_jeans_regular</td>\n",
       "      <td>Essentials No 2: THE JEANS</td>\n",
       "      <td>$ 39.99</td>\n",
       "      <td>2022-11-03 10:00:54</td>\n",
       "      <td>Denim blue</td>\n",
       "      <td>Regular fit</td>\n",
       "      <td>Inner leg: Length: 79.5 cm (Size 33/32)</td>\n",
       "      <td>Shell: Cotton 99%, Spandex 1%Pocket lining: Po...</td>\n",
       "      <td>NaN</td>\n",
       "    </tr>\n",
       "    <tr>\n",
       "      <th>1</th>\n",
       "      <td>1100162003</td>\n",
       "      <td>men_jeans_regular</td>\n",
       "      <td>Essentials No 2: THE JEANS</td>\n",
       "      <td>$ 39.99</td>\n",
       "      <td>2022-11-03 10:00:54</td>\n",
       "      <td>Denim gray</td>\n",
       "      <td>Regular fit</td>\n",
       "      <td>Inner leg: Length: 79.5 cm (Size 33/32)</td>\n",
       "      <td>Shell: Cotton 99%, Spandex 1%Pocket lining: Po...</td>\n",
       "      <td>NaN</td>\n",
       "    </tr>\n",
       "    <tr>\n",
       "      <th>2</th>\n",
       "      <td>985159001</td>\n",
       "      <td>men_jeans_skinny</td>\n",
       "      <td>Skinny Jeans</td>\n",
       "      <td>$ 24.99</td>\n",
       "      <td>2022-11-03 10:00:54</td>\n",
       "      <td>Black</td>\n",
       "      <td>Skinny fit</td>\n",
       "      <td>NaN</td>\n",
       "      <td>Shell: Cotton 99%, Spandex 1%Pocket lining: Co...</td>\n",
       "      <td>Recycled cotton 20%</td>\n",
       "    </tr>\n",
       "    <tr>\n",
       "      <th>3</th>\n",
       "      <td>1024256001</td>\n",
       "      <td>men_jeans_slim</td>\n",
       "      <td>Slim Jeans</td>\n",
       "      <td>$ 19.99</td>\n",
       "      <td>2022-11-03 10:00:54</td>\n",
       "      <td>Black</td>\n",
       "      <td>Slim fit</td>\n",
       "      <td>NaN</td>\n",
       "      <td>Shell: Cotton 99%, Spandex 1%Pocket lining: Po...</td>\n",
       "      <td>NaN</td>\n",
       "    </tr>\n",
       "    <tr>\n",
       "      <th>4</th>\n",
       "      <td>690449067</td>\n",
       "      <td>men_jeans_ripped</td>\n",
       "      <td>Skinny Jeans</td>\n",
       "      <td>$ 39.99</td>\n",
       "      <td>2022-11-03 10:00:54</td>\n",
       "      <td>Denim blue</td>\n",
       "      <td>Skinny fit</td>\n",
       "      <td>NaN</td>\n",
       "      <td>Shell: Cotton 98%, Spandex 2%Pocket lining: Po...</td>\n",
       "      <td>NaN</td>\n",
       "    </tr>\n",
       "  </tbody>\n",
       "</table>\n",
       "</div>"
      ],
      "text/plain": [
       "   product_id   product_category                product_name product_price  \\\n",
       "0  1100162002  men_jeans_regular  Essentials No 2: THE JEANS       $ 39.99   \n",
       "1  1100162003  men_jeans_regular  Essentials No 2: THE JEANS       $ 39.99   \n",
       "2   985159001   men_jeans_skinny                Skinny Jeans       $ 24.99   \n",
       "3  1024256001     men_jeans_slim                  Slim Jeans       $ 19.99   \n",
       "4   690449067   men_jeans_ripped                Skinny Jeans       $ 39.99   \n",
       "\n",
       "       scrapy_datetime  color_name          fit  \\\n",
       "0  2022-11-03 10:00:54  Denim blue  Regular fit   \n",
       "1  2022-11-03 10:00:54  Denim gray  Regular fit   \n",
       "2  2022-11-03 10:00:54       Black   Skinny fit   \n",
       "3  2022-11-03 10:00:54       Black     Slim fit   \n",
       "4  2022-11-03 10:00:54  Denim blue   Skinny fit   \n",
       "\n",
       "                                      size  \\\n",
       "0  Inner leg: Length: 79.5 cm (Size 33/32)   \n",
       "1  Inner leg: Length: 79.5 cm (Size 33/32)   \n",
       "2                                      NaN   \n",
       "3                                      NaN   \n",
       "4                                      NaN   \n",
       "\n",
       "                                         composition  additional_material  \n",
       "0  Shell: Cotton 99%, Spandex 1%Pocket lining: Po...                  NaN  \n",
       "1  Shell: Cotton 99%, Spandex 1%Pocket lining: Po...                  NaN  \n",
       "2  Shell: Cotton 99%, Spandex 1%Pocket lining: Co...  Recycled cotton 20%  \n",
       "3  Shell: Cotton 99%, Spandex 1%Pocket lining: Po...                  NaN  \n",
       "4  Shell: Cotton 98%, Spandex 2%Pocket lining: Po...                  NaN  "
      ]
     },
     "execution_count": 3,
     "metadata": {},
     "output_type": "execute_result"
    }
   ],
   "source": [
    "data.head()"
   ]
  },
  {
   "cell_type": "code",
   "execution_count": 4,
   "id": "367c253b",
   "metadata": {
    "ExecuteTime": {
     "end_time": "2022-11-22T12:19:23.619661Z",
     "start_time": "2022-11-22T12:19:23.538149Z"
    },
    "hidden": true
   },
   "outputs": [],
   "source": [
    "# product_name\n",
    "data['product_name'] = data['product_name'].apply(lambda x: x.replace(' ', '_').lower())\n",
    "\n",
    "# product_price\n",
    "data['product_price'] = data['product_price'].apply(lambda x: x.replace ('$ ', '')).astype(float)\n",
    "\n",
    "# scrapy_datetime\n",
    "data['scrapy_datetime'] = pd.to_datetime(data['scrapy_datetime'], format='%Y-%m-%d %H:%M:%S')\n",
    "\n",
    "# color_name\n",
    "data['color_name'] = data['color_name'].apply(lambda x: x.replace(' ', '_').lower())\n",
    "\n",
    "# Fit\n",
    "data['fit'] = data['fit'].apply(lambda x: x.replace(' ', '_').replace('/', '_').lower())"
   ]
  },
  {
   "cell_type": "code",
   "execution_count": 5,
   "id": "6e8edb09",
   "metadata": {
    "ExecuteTime": {
     "end_time": "2022-11-22T12:19:25.812279Z",
     "start_time": "2022-11-22T12:19:25.673034Z"
    },
    "hidden": true
   },
   "outputs": [],
   "source": [
    "# Composition - Shell\n",
    "data['shell_composition'] = np.NaN\n",
    "\n",
    "for index, line in data.iterrows():\n",
    "    # since there is no pattern, different methods are implemented\n",
    "    if re.match('Shell:.(.+%)\\w', line['composition']):\n",
    "        data.loc[index, 'shell_composition'] = re.match('Shell:.(.+%)\\w', line['composition']).group(1)\n",
    "    elif re.match('(.+)%\\w', line['composition']):\n",
    "        data.loc[index, 'shell_composition'] = re.match('(.+)%\\w', line['composition']).group(1)\n",
    "    else:\n",
    "        data.loc[index, 'shell_composition'] = line['composition']\n",
    "\n",
    "# Composition - Lining\n",
    "\n",
    "for index, line in data.iterrows():\n",
    "    if re.search('Pock.+: (.+)', line['composition']):\n",
    "        data.loc[index, 'pocket_lining_composition'] = re.search('Pock.+: (.+)', line['composition']).group(1)\n",
    "\n",
    "# size\n",
    "data['size_number'] = np.NaN\n",
    "data['leg_lenght'] = np.NaN\n",
    "data['circumference'] = np.NaN\n",
    "\n",
    "for index, line in data.iterrows():\n",
    "    # look for lines with text for extraction\n",
    "    if pd.notnull(line['size']):\n",
    "        if re.search('Length: (.{1,4}) cm', line['size']):\n",
    "            data.loc[index, 'leg_lenght'] = re.search('Length: (.{1,4}) cm', line['size']).group(1)\n",
    "        if re.search('Circumference: (.{1,4}) cm', line['size']):\n",
    "            data.loc[index, 'circumference'] = re.search('Circumference: (.{1,4}) cm', line['size']).group(1)\n",
    "\n",
    "        if re.search('\\(Size (.+)\\)\\w', line['size']):\n",
    "            data.loc[index, 'size_number'] = re.search('\\(Size (.+)\\)\\w', line['size']).group(1)\n",
    "        elif re.search('\\(Size (.+)\\)', line['size']):\n",
    "            data.loc[index, 'size_number'] = re.search('\\(Size (.+)\\)', line['size']).group(1)"
   ]
  },
  {
   "cell_type": "code",
   "execution_count": 6,
   "id": "cb809572",
   "metadata": {
    "ExecuteTime": {
     "end_time": "2022-11-22T12:19:28.808751Z",
     "start_time": "2022-11-22T12:19:28.727208Z"
    },
    "hidden": true
   },
   "outputs": [],
   "source": [
    "# Spliting shell composition\n",
    "\n",
    "# Cotton, Spandex, Polyester, Elastomultiester, Rayon, Lyocell\n",
    "data['cotton'] = data['shell_composition'].apply(lambda x: int(re.search('Cotton (\\d{1,3})', x).group(1))/100\n",
    "                                                 if re.search('Cotton (\\d{1,3})', x) else np.NaN)\n",
    "\n",
    "data['spandex'] = data['shell_composition'].apply(lambda x: int(re.search('Spandex (\\d{1,3})',x).group(1))/100\n",
    "                                                  if re.search('Spandex (\\d{1,3})', x) else np.NaN)\n",
    "\n",
    "data['polyester'] = data['shell_composition'].apply(lambda x:\n",
    "                                                    int(re.search('Polyester (\\d{1,3})',x).group(1))/100\n",
    "                                                    if re.search('Polyester (\\d{1,3})', x) else np.NaN)\n",
    "\n",
    "data['elastomultiester'] = data['shell_composition'].apply(lambda x:\n",
    "                                                           int(re.search('Elastomultiester (\\d{1,3})',\n",
    "                                                                         x).group(1))/100 \n",
    "                                                           if re.search('Elastomultiester (\\d{1,3})', x) else\n",
    "                                                           np.NaN)\n",
    "\n",
    "data['rayon'] = data['shell_composition'].apply(lambda x: int(re.search('Rayon (\\d{1,3})', x).group(1))/100\n",
    "                                                if re.search('Rayon (\\d{1,3})', x) else np.NaN)\n",
    "\n",
    "data['lyocell'] = data['shell_composition'].apply(lambda x: int(re.search('Lyocell (\\d{1,3})',x).group(1))/100\n",
    "                                                  if re.search('Lyocell (\\d{1,3})', x) else np.NaN)\n",
    "\n",
    "data = data.drop(['size', 'composition', 'shell_composition'], axis=1)"
   ]
  },
  {
   "cell_type": "code",
   "execution_count": 7,
   "id": "f9f35d6f",
   "metadata": {
    "ExecuteTime": {
     "end_time": "2022-11-22T12:19:35.484023Z",
     "start_time": "2022-11-22T12:19:35.377837Z"
    },
    "hidden": true
   },
   "outputs": [],
   "source": [
    "for index, line in data.iterrows():\n",
    "    # check for null values\n",
    "    if pd.notnull(line['pocket_lining_composition']):\n",
    "        if re.search('Cotton (\\d{1,3})', line['pocket_lining_composition']):\n",
    "            data.loc[index, 'cotton_pocket'] = int(re.search('Cotton (\\d{1,3})',\n",
    "                                                         line['pocket_lining_composition']).group(1))/100\n",
    "        \n",
    "        if re.search('Polyester (\\d{1,3})', line['pocket_lining_composition']):\n",
    "            data.loc[index, 'polyester_pocket'] = int(re.search('Polyester (\\d{1,3})',\n",
    "                                                         line['pocket_lining_composition']).group(1))/100\n",
    "    if pd.notnull(line['additional_material']):\n",
    "        if re.search('cotton (\\d{1,3})', line['additional_material']):\n",
    "            data.loc[index, 'recycled_cotton'] = int(re.search('cotton (\\d{1,3})',\n",
    "                                                        line['additional_material']).group(1))/100\n",
    "        \n",
    "        if re.search('polyester (\\d{1,3})', line['additional_material']):\n",
    "            data.loc[index, 'recycled_polyester'] = int(re.search('cotton (\\d{1,3})',\n",
    "                                                        line['additional_material']).group(1))/100\n",
    "            \n",
    "data = data.drop(['pocket_lining_composition', 'additional_material'], axis=1)"
   ]
  },
  {
   "cell_type": "code",
   "execution_count": 8,
   "id": "b417f708",
   "metadata": {
    "ExecuteTime": {
     "end_time": "2022-11-22T12:19:39.027839Z",
     "start_time": "2022-11-22T12:19:38.960749Z"
    },
    "hidden": true
   },
   "outputs": [
    {
     "data": {
      "text/html": [
       "<div>\n",
       "<style scoped>\n",
       "    .dataframe tbody tr th:only-of-type {\n",
       "        vertical-align: middle;\n",
       "    }\n",
       "\n",
       "    .dataframe tbody tr th {\n",
       "        vertical-align: top;\n",
       "    }\n",
       "\n",
       "    .dataframe thead th {\n",
       "        text-align: right;\n",
       "    }\n",
       "</style>\n",
       "<table border=\"1\" class=\"dataframe\">\n",
       "  <thead>\n",
       "    <tr style=\"text-align: right;\">\n",
       "      <th></th>\n",
       "      <th>product_id</th>\n",
       "      <th>product_category</th>\n",
       "      <th>product_name</th>\n",
       "      <th>product_price</th>\n",
       "      <th>scrapy_datetime</th>\n",
       "      <th>color_name</th>\n",
       "      <th>fit</th>\n",
       "      <th>size_number</th>\n",
       "      <th>leg_lenght</th>\n",
       "      <th>circumference</th>\n",
       "      <th>cotton</th>\n",
       "      <th>spandex</th>\n",
       "      <th>polyester</th>\n",
       "      <th>elastomultiester</th>\n",
       "      <th>rayon</th>\n",
       "      <th>lyocell</th>\n",
       "      <th>cotton_pocket</th>\n",
       "      <th>polyester_pocket</th>\n",
       "      <th>recycled_cotton</th>\n",
       "      <th>recycled_polyester</th>\n",
       "    </tr>\n",
       "  </thead>\n",
       "  <tbody>\n",
       "    <tr>\n",
       "      <th>0</th>\n",
       "      <td>1100162002</td>\n",
       "      <td>men_jeans_regular</td>\n",
       "      <td>essentials_no_2:_the_jeans</td>\n",
       "      <td>39.99</td>\n",
       "      <td>2022-11-03 10:00:54</td>\n",
       "      <td>denim_blue</td>\n",
       "      <td>regular_fit</td>\n",
       "      <td>33/32</td>\n",
       "      <td>79.5</td>\n",
       "      <td>NaN</td>\n",
       "      <td>0.99</td>\n",
       "      <td>0.01</td>\n",
       "      <td>NaN</td>\n",
       "      <td>NaN</td>\n",
       "      <td>NaN</td>\n",
       "      <td>NaN</td>\n",
       "      <td>0.35</td>\n",
       "      <td>0.65</td>\n",
       "      <td>NaN</td>\n",
       "      <td>NaN</td>\n",
       "    </tr>\n",
       "    <tr>\n",
       "      <th>1</th>\n",
       "      <td>1100162003</td>\n",
       "      <td>men_jeans_regular</td>\n",
       "      <td>essentials_no_2:_the_jeans</td>\n",
       "      <td>39.99</td>\n",
       "      <td>2022-11-03 10:00:54</td>\n",
       "      <td>denim_gray</td>\n",
       "      <td>regular_fit</td>\n",
       "      <td>33/32</td>\n",
       "      <td>79.5</td>\n",
       "      <td>NaN</td>\n",
       "      <td>0.99</td>\n",
       "      <td>0.01</td>\n",
       "      <td>NaN</td>\n",
       "      <td>NaN</td>\n",
       "      <td>NaN</td>\n",
       "      <td>NaN</td>\n",
       "      <td>0.35</td>\n",
       "      <td>0.65</td>\n",
       "      <td>NaN</td>\n",
       "      <td>NaN</td>\n",
       "    </tr>\n",
       "    <tr>\n",
       "      <th>2</th>\n",
       "      <td>985159001</td>\n",
       "      <td>men_jeans_skinny</td>\n",
       "      <td>skinny_jeans</td>\n",
       "      <td>24.99</td>\n",
       "      <td>2022-11-03 10:00:54</td>\n",
       "      <td>black</td>\n",
       "      <td>skinny_fit</td>\n",
       "      <td>NaN</td>\n",
       "      <td>NaN</td>\n",
       "      <td>NaN</td>\n",
       "      <td>0.99</td>\n",
       "      <td>0.01</td>\n",
       "      <td>NaN</td>\n",
       "      <td>NaN</td>\n",
       "      <td>NaN</td>\n",
       "      <td>NaN</td>\n",
       "      <td>1.00</td>\n",
       "      <td>NaN</td>\n",
       "      <td>0.2</td>\n",
       "      <td>NaN</td>\n",
       "    </tr>\n",
       "    <tr>\n",
       "      <th>3</th>\n",
       "      <td>1024256001</td>\n",
       "      <td>men_jeans_slim</td>\n",
       "      <td>slim_jeans</td>\n",
       "      <td>19.99</td>\n",
       "      <td>2022-11-03 10:00:54</td>\n",
       "      <td>black</td>\n",
       "      <td>slim_fit</td>\n",
       "      <td>NaN</td>\n",
       "      <td>NaN</td>\n",
       "      <td>NaN</td>\n",
       "      <td>0.99</td>\n",
       "      <td>0.01</td>\n",
       "      <td>NaN</td>\n",
       "      <td>NaN</td>\n",
       "      <td>NaN</td>\n",
       "      <td>NaN</td>\n",
       "      <td>0.35</td>\n",
       "      <td>0.65</td>\n",
       "      <td>NaN</td>\n",
       "      <td>NaN</td>\n",
       "    </tr>\n",
       "    <tr>\n",
       "      <th>4</th>\n",
       "      <td>690449067</td>\n",
       "      <td>men_jeans_ripped</td>\n",
       "      <td>skinny_jeans</td>\n",
       "      <td>39.99</td>\n",
       "      <td>2022-11-03 10:00:54</td>\n",
       "      <td>denim_blue</td>\n",
       "      <td>skinny_fit</td>\n",
       "      <td>NaN</td>\n",
       "      <td>NaN</td>\n",
       "      <td>NaN</td>\n",
       "      <td>0.98</td>\n",
       "      <td>0.02</td>\n",
       "      <td>NaN</td>\n",
       "      <td>NaN</td>\n",
       "      <td>NaN</td>\n",
       "      <td>NaN</td>\n",
       "      <td>0.35</td>\n",
       "      <td>0.65</td>\n",
       "      <td>NaN</td>\n",
       "      <td>NaN</td>\n",
       "    </tr>\n",
       "    <tr>\n",
       "      <th>...</th>\n",
       "      <td>...</td>\n",
       "      <td>...</td>\n",
       "      <td>...</td>\n",
       "      <td>...</td>\n",
       "      <td>...</td>\n",
       "      <td>...</td>\n",
       "      <td>...</td>\n",
       "      <td>...</td>\n",
       "      <td>...</td>\n",
       "      <td>...</td>\n",
       "      <td>...</td>\n",
       "      <td>...</td>\n",
       "      <td>...</td>\n",
       "      <td>...</td>\n",
       "      <td>...</td>\n",
       "      <td>...</td>\n",
       "      <td>...</td>\n",
       "      <td>...</td>\n",
       "      <td>...</td>\n",
       "      <td>...</td>\n",
       "    </tr>\n",
       "    <tr>\n",
       "      <th>87</th>\n",
       "      <td>1025726003</td>\n",
       "      <td>men_jeans_relaxed</td>\n",
       "      <td>relaxed_jeans</td>\n",
       "      <td>39.99</td>\n",
       "      <td>2022-11-03 10:00:54</td>\n",
       "      <td>graphite_gray</td>\n",
       "      <td>relaxed_fit</td>\n",
       "      <td>33/32</td>\n",
       "      <td>81.0</td>\n",
       "      <td>90.5</td>\n",
       "      <td>1.00</td>\n",
       "      <td>NaN</td>\n",
       "      <td>NaN</td>\n",
       "      <td>NaN</td>\n",
       "      <td>NaN</td>\n",
       "      <td>NaN</td>\n",
       "      <td>0.35</td>\n",
       "      <td>0.65</td>\n",
       "      <td>NaN</td>\n",
       "      <td>NaN</td>\n",
       "    </tr>\n",
       "    <tr>\n",
       "      <th>88</th>\n",
       "      <td>1027852007</td>\n",
       "      <td>men_jeans_joggers</td>\n",
       "      <td>relaxed_denim_joggers</td>\n",
       "      <td>29.99</td>\n",
       "      <td>2022-11-03 10:00:54</td>\n",
       "      <td>denim_blue</td>\n",
       "      <td>relaxed_fit</td>\n",
       "      <td>L</td>\n",
       "      <td>77.7</td>\n",
       "      <td>NaN</td>\n",
       "      <td>1.00</td>\n",
       "      <td>NaN</td>\n",
       "      <td>NaN</td>\n",
       "      <td>NaN</td>\n",
       "      <td>NaN</td>\n",
       "      <td>NaN</td>\n",
       "      <td>1.00</td>\n",
       "      <td>NaN</td>\n",
       "      <td>NaN</td>\n",
       "      <td>NaN</td>\n",
       "    </tr>\n",
       "    <tr>\n",
       "      <th>89</th>\n",
       "      <td>875105016</td>\n",
       "      <td>men_jeans_relaxed</td>\n",
       "      <td>relaxed_jeans</td>\n",
       "      <td>39.99</td>\n",
       "      <td>2022-11-03 10:00:54</td>\n",
       "      <td>denim_blue</td>\n",
       "      <td>relaxed_fit</td>\n",
       "      <td>33</td>\n",
       "      <td>89.5</td>\n",
       "      <td>90.5</td>\n",
       "      <td>1.00</td>\n",
       "      <td>NaN</td>\n",
       "      <td>NaN</td>\n",
       "      <td>NaN</td>\n",
       "      <td>NaN</td>\n",
       "      <td>NaN</td>\n",
       "      <td>0.35</td>\n",
       "      <td>0.65</td>\n",
       "      <td>NaN</td>\n",
       "      <td>NaN</td>\n",
       "    </tr>\n",
       "    <tr>\n",
       "      <th>90</th>\n",
       "      <td>811993037</td>\n",
       "      <td>men_jeans_regular</td>\n",
       "      <td>regular_jeans</td>\n",
       "      <td>29.99</td>\n",
       "      <td>2022-11-03 10:00:54</td>\n",
       "      <td>dark_blue</td>\n",
       "      <td>regular_fit</td>\n",
       "      <td>NaN</td>\n",
       "      <td>NaN</td>\n",
       "      <td>NaN</td>\n",
       "      <td>0.99</td>\n",
       "      <td>0.01</td>\n",
       "      <td>NaN</td>\n",
       "      <td>NaN</td>\n",
       "      <td>NaN</td>\n",
       "      <td>NaN</td>\n",
       "      <td>NaN</td>\n",
       "      <td>NaN</td>\n",
       "      <td>0.2</td>\n",
       "      <td>NaN</td>\n",
       "    </tr>\n",
       "    <tr>\n",
       "      <th>91</th>\n",
       "      <td>868115004</td>\n",
       "      <td>men_jeans_skinny</td>\n",
       "      <td>skinny_cropped_jeans</td>\n",
       "      <td>29.99</td>\n",
       "      <td>2022-11-03 10:00:54</td>\n",
       "      <td>denim_blue</td>\n",
       "      <td>skinny_fit</td>\n",
       "      <td>NaN</td>\n",
       "      <td>NaN</td>\n",
       "      <td>NaN</td>\n",
       "      <td>0.89</td>\n",
       "      <td>0.01</td>\n",
       "      <td>0.1</td>\n",
       "      <td>NaN</td>\n",
       "      <td>NaN</td>\n",
       "      <td>NaN</td>\n",
       "      <td>1.00</td>\n",
       "      <td>NaN</td>\n",
       "      <td>NaN</td>\n",
       "      <td>NaN</td>\n",
       "    </tr>\n",
       "  </tbody>\n",
       "</table>\n",
       "<p>92 rows × 20 columns</p>\n",
       "</div>"
      ],
      "text/plain": [
       "    product_id   product_category                product_name  product_price  \\\n",
       "0   1100162002  men_jeans_regular  essentials_no_2:_the_jeans          39.99   \n",
       "1   1100162003  men_jeans_regular  essentials_no_2:_the_jeans          39.99   \n",
       "2    985159001   men_jeans_skinny                skinny_jeans          24.99   \n",
       "3   1024256001     men_jeans_slim                  slim_jeans          19.99   \n",
       "4    690449067   men_jeans_ripped                skinny_jeans          39.99   \n",
       "..         ...                ...                         ...            ...   \n",
       "87  1025726003  men_jeans_relaxed               relaxed_jeans          39.99   \n",
       "88  1027852007  men_jeans_joggers       relaxed_denim_joggers          29.99   \n",
       "89   875105016  men_jeans_relaxed               relaxed_jeans          39.99   \n",
       "90   811993037  men_jeans_regular               regular_jeans          29.99   \n",
       "91   868115004   men_jeans_skinny        skinny_cropped_jeans          29.99   \n",
       "\n",
       "       scrapy_datetime     color_name          fit size_number leg_lenght  \\\n",
       "0  2022-11-03 10:00:54     denim_blue  regular_fit       33/32       79.5   \n",
       "1  2022-11-03 10:00:54     denim_gray  regular_fit       33/32       79.5   \n",
       "2  2022-11-03 10:00:54          black   skinny_fit         NaN        NaN   \n",
       "3  2022-11-03 10:00:54          black     slim_fit         NaN        NaN   \n",
       "4  2022-11-03 10:00:54     denim_blue   skinny_fit         NaN        NaN   \n",
       "..                 ...            ...          ...         ...        ...   \n",
       "87 2022-11-03 10:00:54  graphite_gray  relaxed_fit       33/32       81.0   \n",
       "88 2022-11-03 10:00:54     denim_blue  relaxed_fit           L       77.7   \n",
       "89 2022-11-03 10:00:54     denim_blue  relaxed_fit          33       89.5   \n",
       "90 2022-11-03 10:00:54      dark_blue  regular_fit         NaN        NaN   \n",
       "91 2022-11-03 10:00:54     denim_blue   skinny_fit         NaN        NaN   \n",
       "\n",
       "   circumference  cotton  spandex  polyester  elastomultiester  rayon  \\\n",
       "0            NaN    0.99     0.01        NaN               NaN    NaN   \n",
       "1            NaN    0.99     0.01        NaN               NaN    NaN   \n",
       "2            NaN    0.99     0.01        NaN               NaN    NaN   \n",
       "3            NaN    0.99     0.01        NaN               NaN    NaN   \n",
       "4            NaN    0.98     0.02        NaN               NaN    NaN   \n",
       "..           ...     ...      ...        ...               ...    ...   \n",
       "87          90.5    1.00      NaN        NaN               NaN    NaN   \n",
       "88           NaN    1.00      NaN        NaN               NaN    NaN   \n",
       "89          90.5    1.00      NaN        NaN               NaN    NaN   \n",
       "90           NaN    0.99     0.01        NaN               NaN    NaN   \n",
       "91           NaN    0.89     0.01        0.1               NaN    NaN   \n",
       "\n",
       "    lyocell  cotton_pocket  polyester_pocket  recycled_cotton  \\\n",
       "0       NaN           0.35              0.65              NaN   \n",
       "1       NaN           0.35              0.65              NaN   \n",
       "2       NaN           1.00               NaN              0.2   \n",
       "3       NaN           0.35              0.65              NaN   \n",
       "4       NaN           0.35              0.65              NaN   \n",
       "..      ...            ...               ...              ...   \n",
       "87      NaN           0.35              0.65              NaN   \n",
       "88      NaN           1.00               NaN              NaN   \n",
       "89      NaN           0.35              0.65              NaN   \n",
       "90      NaN            NaN               NaN              0.2   \n",
       "91      NaN           1.00               NaN              NaN   \n",
       "\n",
       "    recycled_polyester  \n",
       "0                  NaN  \n",
       "1                  NaN  \n",
       "2                  NaN  \n",
       "3                  NaN  \n",
       "4                  NaN  \n",
       "..                 ...  \n",
       "87                 NaN  \n",
       "88                 NaN  \n",
       "89                 NaN  \n",
       "90                 NaN  \n",
       "91                 NaN  \n",
       "\n",
       "[92 rows x 20 columns]"
      ]
     },
     "execution_count": 8,
     "metadata": {},
     "output_type": "execute_result"
    }
   ],
   "source": [
    "data"
   ]
  },
  {
   "cell_type": "markdown",
   "id": "f73611a3",
   "metadata": {},
   "source": [
    "# Inserting data to DataBase"
   ]
  },
  {
   "cell_type": "code",
   "execution_count": 12,
   "id": "e9582c64",
   "metadata": {
    "ExecuteTime": {
     "end_time": "2022-11-22T12:28:40.738751Z",
     "start_time": "2022-11-22T12:28:40.725996Z"
    }
   },
   "outputs": [
    {
     "data": {
      "text/plain": [
       "product_id                     int64\n",
       "product_category              object\n",
       "product_name                  object\n",
       "product_price                float64\n",
       "scrapy_datetime       datetime64[ns]\n",
       "color_name                    object\n",
       "fit                           object\n",
       "size_number                   object\n",
       "leg_lenght                    object\n",
       "circumference                 object\n",
       "cotton                       float64\n",
       "spandex                      float64\n",
       "polyester                    float64\n",
       "elastomultiester             float64\n",
       "rayon                        float64\n",
       "lyocell                      float64\n",
       "cotton_pocket                float64\n",
       "polyester_pocket             float64\n",
       "recycled_cotton              float64\n",
       "recycled_polyester           float64\n",
       "dtype: object"
      ]
     },
     "execution_count": 12,
     "metadata": {},
     "output_type": "execute_result"
    }
   ],
   "source": [
    "data.dtypes"
   ]
  },
  {
   "cell_type": "code",
   "execution_count": 13,
   "id": "c5444343",
   "metadata": {
    "ExecuteTime": {
     "end_time": "2022-11-22T12:32:41.354751Z",
     "start_time": "2022-11-22T12:32:41.348518Z"
    }
   },
   "outputs": [],
   "source": [
    "# query for the table creation\n",
    "query_showroom_schema = \"\"\"\n",
    "    CREATE TABLE showroom (\n",
    "        product_id         INTEGER,\n",
    "        product_category   TEXT,\n",
    "        product_name       TEXT,\n",
    "        product_price      REAL,\n",
    "        scrapy_datetime    TEXT,\n",
    "        color_name         TEXT,\n",
    "        fit                TEXT,\n",
    "        size_number        TEXT,\n",
    "        leg_lenght         TEXT, \n",
    "        circumference      TEXT,\n",
    "        cotton             REAL,\n",
    "        spandex            REAL,\n",
    "        polyester          REAL,\n",
    "        elastomultiester   REAL,  \n",
    "        rayon              REAL,\n",
    "        lyocell            REAL,\n",
    "        cotton_pocket      REAL,\n",
    "        polyester_pocket   REAL,   \n",
    "        recycled_cotton    REAL,\n",
    "        recycled_polyester REAL\n",
    "    )\n",
    "\"\"\""
   ]
  },
  {
   "cell_type": "markdown",
   "id": "9f546a63",
   "metadata": {},
   "source": [
    "## Creating DataBase"
   ]
  },
  {
   "cell_type": "code",
   "execution_count": 14,
   "id": "40d3fc86",
   "metadata": {
    "ExecuteTime": {
     "end_time": "2022-11-22T13:01:46.895663Z",
     "start_time": "2022-11-22T13:01:46.882799Z"
    }
   },
   "outputs": [],
   "source": [
    "conn = sqlite3.connect('hm_db.sqlite')\n",
    "\n",
    "# plan the execution\n",
    "cursor = conn.execute(query_showroom_schema)\n",
    "\n",
    "conn.commit()\n",
    "conn.close()"
   ]
  },
  {
   "cell_type": "markdown",
   "id": "439d7727",
   "metadata": {},
   "source": [
    "## Inserting data"
   ]
  },
  {
   "cell_type": "code",
   "execution_count": 15,
   "id": "e4fe6825",
   "metadata": {
    "ExecuteTime": {
     "end_time": "2022-11-22T13:03:38.143024Z",
     "start_time": "2022-11-22T13:03:38.119794Z"
    }
   },
   "outputs": [],
   "source": [
    "# other way to connect\n",
    "conn = create_engine('sqlite:///hm_db.sqlite', echo=False)"
   ]
  },
  {
   "cell_type": "code",
   "execution_count": 16,
   "id": "1278e00b",
   "metadata": {
    "ExecuteTime": {
     "end_time": "2022-11-22T13:04:13.443583Z",
     "start_time": "2022-11-22T13:04:13.416183Z"
    }
   },
   "outputs": [
    {
     "data": {
      "text/plain": [
       "92"
      ]
     },
     "execution_count": 16,
     "metadata": {},
     "output_type": "execute_result"
    }
   ],
   "source": [
    "data.to_sql('showroom', con=conn, if_exists='append', index=False)"
   ]
  },
  {
   "cell_type": "code",
   "execution_count": 18,
   "id": "55d9dbc1",
   "metadata": {
    "ExecuteTime": {
     "end_time": "2022-11-22T13:05:25.004928Z",
     "start_time": "2022-11-22T13:05:24.970346Z"
    }
   },
   "outputs": [
    {
     "data": {
      "text/html": [
       "<div>\n",
       "<style scoped>\n",
       "    .dataframe tbody tr th:only-of-type {\n",
       "        vertical-align: middle;\n",
       "    }\n",
       "\n",
       "    .dataframe tbody tr th {\n",
       "        vertical-align: top;\n",
       "    }\n",
       "\n",
       "    .dataframe thead th {\n",
       "        text-align: right;\n",
       "    }\n",
       "</style>\n",
       "<table border=\"1\" class=\"dataframe\">\n",
       "  <thead>\n",
       "    <tr style=\"text-align: right;\">\n",
       "      <th></th>\n",
       "      <th>product_id</th>\n",
       "      <th>product_category</th>\n",
       "      <th>product_name</th>\n",
       "      <th>product_price</th>\n",
       "      <th>scrapy_datetime</th>\n",
       "      <th>color_name</th>\n",
       "      <th>fit</th>\n",
       "      <th>size_number</th>\n",
       "      <th>leg_lenght</th>\n",
       "      <th>circumference</th>\n",
       "      <th>cotton</th>\n",
       "      <th>spandex</th>\n",
       "      <th>polyester</th>\n",
       "      <th>elastomultiester</th>\n",
       "      <th>rayon</th>\n",
       "      <th>lyocell</th>\n",
       "      <th>cotton_pocket</th>\n",
       "      <th>polyester_pocket</th>\n",
       "      <th>recycled_cotton</th>\n",
       "      <th>recycled_polyester</th>\n",
       "    </tr>\n",
       "  </thead>\n",
       "  <tbody>\n",
       "    <tr>\n",
       "      <th>0</th>\n",
       "      <td>1100162002</td>\n",
       "      <td>men_jeans_regular</td>\n",
       "      <td>essentials_no_2:_the_jeans</td>\n",
       "      <td>39.99</td>\n",
       "      <td>2022-11-03 10:00:54.000000</td>\n",
       "      <td>denim_blue</td>\n",
       "      <td>regular_fit</td>\n",
       "      <td>33/32</td>\n",
       "      <td>79.5</td>\n",
       "      <td>None</td>\n",
       "      <td>0.99</td>\n",
       "      <td>0.01</td>\n",
       "      <td>NaN</td>\n",
       "      <td>NaN</td>\n",
       "      <td>NaN</td>\n",
       "      <td>NaN</td>\n",
       "      <td>0.35</td>\n",
       "      <td>0.65</td>\n",
       "      <td>NaN</td>\n",
       "      <td>NaN</td>\n",
       "    </tr>\n",
       "    <tr>\n",
       "      <th>1</th>\n",
       "      <td>1100162003</td>\n",
       "      <td>men_jeans_regular</td>\n",
       "      <td>essentials_no_2:_the_jeans</td>\n",
       "      <td>39.99</td>\n",
       "      <td>2022-11-03 10:00:54.000000</td>\n",
       "      <td>denim_gray</td>\n",
       "      <td>regular_fit</td>\n",
       "      <td>33/32</td>\n",
       "      <td>79.5</td>\n",
       "      <td>None</td>\n",
       "      <td>0.99</td>\n",
       "      <td>0.01</td>\n",
       "      <td>NaN</td>\n",
       "      <td>NaN</td>\n",
       "      <td>NaN</td>\n",
       "      <td>NaN</td>\n",
       "      <td>0.35</td>\n",
       "      <td>0.65</td>\n",
       "      <td>NaN</td>\n",
       "      <td>NaN</td>\n",
       "    </tr>\n",
       "    <tr>\n",
       "      <th>2</th>\n",
       "      <td>985159001</td>\n",
       "      <td>men_jeans_skinny</td>\n",
       "      <td>skinny_jeans</td>\n",
       "      <td>24.99</td>\n",
       "      <td>2022-11-03 10:00:54.000000</td>\n",
       "      <td>black</td>\n",
       "      <td>skinny_fit</td>\n",
       "      <td>None</td>\n",
       "      <td>None</td>\n",
       "      <td>None</td>\n",
       "      <td>0.99</td>\n",
       "      <td>0.01</td>\n",
       "      <td>NaN</td>\n",
       "      <td>NaN</td>\n",
       "      <td>NaN</td>\n",
       "      <td>NaN</td>\n",
       "      <td>1.00</td>\n",
       "      <td>NaN</td>\n",
       "      <td>0.2</td>\n",
       "      <td>NaN</td>\n",
       "    </tr>\n",
       "    <tr>\n",
       "      <th>3</th>\n",
       "      <td>1024256001</td>\n",
       "      <td>men_jeans_slim</td>\n",
       "      <td>slim_jeans</td>\n",
       "      <td>19.99</td>\n",
       "      <td>2022-11-03 10:00:54.000000</td>\n",
       "      <td>black</td>\n",
       "      <td>slim_fit</td>\n",
       "      <td>None</td>\n",
       "      <td>None</td>\n",
       "      <td>None</td>\n",
       "      <td>0.99</td>\n",
       "      <td>0.01</td>\n",
       "      <td>NaN</td>\n",
       "      <td>NaN</td>\n",
       "      <td>NaN</td>\n",
       "      <td>NaN</td>\n",
       "      <td>0.35</td>\n",
       "      <td>0.65</td>\n",
       "      <td>NaN</td>\n",
       "      <td>NaN</td>\n",
       "    </tr>\n",
       "    <tr>\n",
       "      <th>4</th>\n",
       "      <td>690449067</td>\n",
       "      <td>men_jeans_ripped</td>\n",
       "      <td>skinny_jeans</td>\n",
       "      <td>39.99</td>\n",
       "      <td>2022-11-03 10:00:54.000000</td>\n",
       "      <td>denim_blue</td>\n",
       "      <td>skinny_fit</td>\n",
       "      <td>None</td>\n",
       "      <td>None</td>\n",
       "      <td>None</td>\n",
       "      <td>0.98</td>\n",
       "      <td>0.02</td>\n",
       "      <td>NaN</td>\n",
       "      <td>NaN</td>\n",
       "      <td>NaN</td>\n",
       "      <td>NaN</td>\n",
       "      <td>0.35</td>\n",
       "      <td>0.65</td>\n",
       "      <td>NaN</td>\n",
       "      <td>NaN</td>\n",
       "    </tr>\n",
       "  </tbody>\n",
       "</table>\n",
       "</div>"
      ],
      "text/plain": [
       "   product_id   product_category                product_name  product_price  \\\n",
       "0  1100162002  men_jeans_regular  essentials_no_2:_the_jeans          39.99   \n",
       "1  1100162003  men_jeans_regular  essentials_no_2:_the_jeans          39.99   \n",
       "2   985159001   men_jeans_skinny                skinny_jeans          24.99   \n",
       "3  1024256001     men_jeans_slim                  slim_jeans          19.99   \n",
       "4   690449067   men_jeans_ripped                skinny_jeans          39.99   \n",
       "\n",
       "              scrapy_datetime  color_name          fit size_number leg_lenght  \\\n",
       "0  2022-11-03 10:00:54.000000  denim_blue  regular_fit       33/32       79.5   \n",
       "1  2022-11-03 10:00:54.000000  denim_gray  regular_fit       33/32       79.5   \n",
       "2  2022-11-03 10:00:54.000000       black   skinny_fit        None       None   \n",
       "3  2022-11-03 10:00:54.000000       black     slim_fit        None       None   \n",
       "4  2022-11-03 10:00:54.000000  denim_blue   skinny_fit        None       None   \n",
       "\n",
       "  circumference  cotton  spandex  polyester  elastomultiester  rayon  lyocell  \\\n",
       "0          None    0.99     0.01        NaN               NaN    NaN      NaN   \n",
       "1          None    0.99     0.01        NaN               NaN    NaN      NaN   \n",
       "2          None    0.99     0.01        NaN               NaN    NaN      NaN   \n",
       "3          None    0.99     0.01        NaN               NaN    NaN      NaN   \n",
       "4          None    0.98     0.02        NaN               NaN    NaN      NaN   \n",
       "\n",
       "   cotton_pocket  polyester_pocket  recycled_cotton  recycled_polyester  \n",
       "0           0.35              0.65              NaN                 NaN  \n",
       "1           0.35              0.65              NaN                 NaN  \n",
       "2           1.00               NaN              0.2                 NaN  \n",
       "3           0.35              0.65              NaN                 NaN  \n",
       "4           0.35              0.65              NaN                 NaN  "
      ]
     },
     "execution_count": 18,
     "metadata": {},
     "output_type": "execute_result"
    }
   ],
   "source": [
    "query = \"\"\"\n",
    "  SELECT * FROM showroom\n",
    "\"\"\"\n",
    "\n",
    "df = pd.read_sql_query(query, conn)\n",
    "df.head()"
   ]
  },
  {
   "cell_type": "markdown",
   "id": "4e86278f",
   "metadata": {},
   "source": [
    "## Commands"
   ]
  },
  {
   "cell_type": "code",
   "execution_count": null,
   "id": "b7260177",
   "metadata": {},
   "outputs": [],
   "source": [
    "# command - UPDATE\n",
    "query = \"\"\"\n",
    "    UPDATE showroom\n",
    "    SET product_category = 'tshirt'\n",
    "    WHERE product_id = 1100162002\n",
    "\"\"\"\n",
    "\n",
    "# command - DROP TABLE\n",
    "query = \"\"\"\n",
    "    DROP TABLE showroom\n",
    "\"\"\"\n",
    "\n",
    "# command - ALTER TABLE\n",
    "query = \"\"\"\n",
    "    ALTER TABLE showroom\n",
    "    RENAME TO showroom_two\n",
    "\"\"\"\n",
    "\n",
    "# command - CREATE INDEX\n",
    "query = \"\"\"\n",
    "    CREATE INDEX idx_product_id\n",
    "    ON showroom_two (product_id)\n",
    "\"\"\"\n",
    "\n",
    "conn = sqlite3.connect('hm_db.sqlite')\n",
    "\n",
    "# plan the execution\n",
    "cursor = conn.execute()\n",
    "\n",
    "conn.commit()\n",
    "conn.close()"
   ]
  },
  {
   "cell_type": "code",
   "execution_count": null,
   "id": "7ddde656",
   "metadata": {},
   "outputs": [],
   "source": []
  }
 ],
 "metadata": {
  "kernelspec": {
   "display_name": "Python 3 (ipykernel)",
   "language": "python",
   "name": "python3"
  },
  "language_info": {
   "codemirror_mode": {
    "name": "ipython",
    "version": 3
   },
   "file_extension": ".py",
   "mimetype": "text/x-python",
   "name": "python",
   "nbconvert_exporter": "python",
   "pygments_lexer": "ipython3",
   "version": "3.8.12"
  }
 },
 "nbformat": 4,
 "nbformat_minor": 5
}
